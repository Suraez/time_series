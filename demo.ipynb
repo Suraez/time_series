{
 "cells": [
  {
   "cell_type": "markdown",
   "metadata": {},
   "source": [
    "For demo, see the throw.ipynb"
   ]
  },
  {
   "cell_type": "markdown",
   "metadata": {},
   "source": [
    "Autoformer"
   ]
  },
  {
   "cell_type": "code",
   "execution_count": 1,
   "metadata": {},
   "outputs": [],
   "source": [
    "import pandas as pd\n",
    "import numpy as np\n",
    "import torch\n",
    "from torch.utils.data import Dataset, DataLoader"
   ]
  },
  {
   "cell_type": "code",
   "execution_count": 2,
   "metadata": {},
   "outputs": [],
   "source": [
    "class TimeSeriesWindowDataset(Dataset):\n",
    "    def __init__(self, df, context_length, prediction_length, lags_sequence):\n",
    "        self.context_length = context_length\n",
    "        self.prediction_length = prediction_length\n",
    "        self.lags_sequence = lags_sequence\n",
    "        self.max_lag = max(lags_sequence)\n",
    "        self.required_past_length = context_length + self.max_lag\n",
    "\n",
    "        self.values = df['requests'].values\n",
    "        self.features = df[['memory', 'cpu']].values\n",
    "\n",
    "        self.length = len(df) - self.required_past_length - prediction_length + 1\n",
    "\n",
    "        self.static_real = np.array([df['cpu'].mean(), df['memory'].mean()])\n",
    "        self.static_cat = np.array([0])\n",
    "\n",
    "    def __len__(self):\n",
    "        return self.length\n",
    "\n",
    "    def __getitem__(self, idx):\n",
    "        past_values = self.values[idx : idx + self.required_past_length]\n",
    "        past_time_features = self.features[idx : idx + self.required_past_length]\n",
    "\n",
    "        future_values = self.values[\n",
    "            idx + self.required_past_length : idx + self.required_past_length + self.prediction_length\n",
    "        ]\n",
    "        future_time_features = self.features[\n",
    "            idx + self.required_past_length : idx + self.required_past_length + self.prediction_length\n",
    "        ]\n",
    "\n",
    "        past_observed_mask = ~np.isnan(past_values)\n",
    "        future_observed_mask = ~np.isnan(future_values)\n",
    "\n",
    "        return {\n",
    "            'past_values': torch.tensor(past_values, dtype=torch.float),\n",
    "            'past_time_features': torch.tensor(past_time_features, dtype=torch.float),\n",
    "            'past_observed_mask': torch.tensor(past_observed_mask, dtype=torch.float),\n",
    "            'future_values': torch.tensor(future_values, dtype=torch.float),\n",
    "            'future_time_features': torch.tensor(future_time_features, dtype=torch.float),\n",
    "            'future_observed_mask': torch.tensor(future_observed_mask, dtype=torch.float),\n",
    "            'static_real_features': torch.tensor(self.static_real, dtype=torch.float),\n",
    "            'static_categorical_features': torch.tensor(self.static_cat, dtype=torch.long),\n",
    "        }\n"
   ]
  },
  {
   "cell_type": "code",
   "execution_count": 3,
   "metadata": {},
   "outputs": [],
   "source": [
    "df = pd.read_csv(\"preprocessed_dataset.csv\", parse_dates=[\"timestamp\"])\n",
    "df.set_index(\"timestamp\", inplace=True)"
   ]
  },
  {
   "cell_type": "code",
   "execution_count": 4,
   "metadata": {},
   "outputs": [],
   "source": [
    "lags_seq = [1, 2, 3, 4, 5, 6, 7, 8, 9, 10]  # can include 0 if needed\n",
    "context_len = 10  # 21 - max(lags_seq)\n",
    "prediction_len = 1\n"
   ]
  },
  {
   "cell_type": "code",
   "execution_count": 5,
   "metadata": {},
   "outputs": [],
   "source": [
    "dataset = TimeSeriesWindowDataset(df, context_length=context_len, prediction_length=prediction_len, lags_sequence=lags_seq)"
   ]
  },
  {
   "cell_type": "code",
   "execution_count": 6,
   "metadata": {},
   "outputs": [
    {
     "name": "stdout",
     "output_type": "stream",
     "text": [
      "past values: torch.Size([64, 20])\n",
      "past_time_features:  torch.Size([64, 20, 2])\n",
      "past_observed_mask:  torch.Size([64, 20])\n",
      "future_values:  torch.Size([64, 1])\n",
      "future_time_series:  torch.Size([64, 1, 2])\n",
      "future_observed_mask:  torch.Size([64, 1])\n"
     ]
    }
   ],
   "source": [
    "loader = DataLoader(dataset, batch_size=64, shuffle=True)\n",
    "for batch in loader:\n",
    "    print(\"past values:\", batch['past_values'].shape, end=\"\\n\")  \n",
    "    print(\"past_time_features: \",batch['past_time_features'].shape, end=\"\\n\") \n",
    "    print(\"past_observed_mask: \",batch['past_observed_mask'].shape, end=\"\\n\")\n",
    "    print(\"future_values: \",batch['future_values'].shape, end=\"\\n\") \n",
    "    print(\"future_time_series: \",batch['future_time_features'].shape, end=\"\\n\") \n",
    "    print(\"future_observed_mask: \",batch['future_observed_mask'].shape, end=\"\\n\") \n",
    "    break\n"
   ]
  },
  {
   "cell_type": "markdown",
   "metadata": {},
   "source": [
    "MODEL CONFIGURATION"
   ]
  },
  {
   "cell_type": "code",
   "execution_count": 7,
   "metadata": {},
   "outputs": [
    {
     "name": "stderr",
     "output_type": "stream",
     "text": [
      "/home/suraj/projects/time_series/myenv/lib/python3.12/site-packages/tqdm/auto.py:21: TqdmWarning: IProgress not found. Please update jupyter and ipywidgets. See https://ipywidgets.readthedocs.io/en/stable/user_install.html\n",
      "  from .autonotebook import tqdm as notebook_tqdm\n"
     ]
    }
   ],
   "source": [
    "from transformers import AutoformerForPrediction, AutoformerConfig\n",
    "config = AutoformerConfig(\n",
    "    context_length=context_len,\n",
    "    prediction_length=prediction_len,\n",
    "    lags_sequence=lags_seq,\n",
    "    input_size=1,\n",
    "    num_time_features=2,\n",
    "    static_categorical_cardinalities=[1],\n",
    "    static_real_features=2,\n",
    ")\n",
    "\n",
    "model = AutoformerForPrediction(config)"
   ]
  },
  {
   "cell_type": "code",
   "execution_count": 8,
   "metadata": {},
   "outputs": [
    {
     "name": "stderr",
     "output_type": "stream",
     "text": [
      "/home/suraj/projects/time_series/myenv/lib/python3.12/site-packages/torch/cuda/__init__.py:129: UserWarning: CUDA initialization: CUDA unknown error - this may be due to an incorrectly set up environment, e.g. changing env variable CUDA_VISIBLE_DEVICES after program start. Setting the available devices to be zero. (Triggered internally at /pytorch/c10/cuda/CUDAFunctions.cpp:109.)\n",
      "  return torch._C._cuda_getDeviceCount() > 0\n"
     ]
    }
   ],
   "source": [
    "device = torch.device(\"cuda\" if torch.cuda.is_available() else \"cpu\")\n",
    "model = model.to(device)"
   ]
  },
  {
   "cell_type": "code",
   "execution_count": 9,
   "metadata": {},
   "outputs": [],
   "source": [
    "optimizer = torch.optim.Adam(model.parameters(), lr=1e-3)\n",
    "num_epochs = 50  #"
   ]
  },
  {
   "cell_type": "markdown",
   "metadata": {},
   "source": [
    "Training Part"
   ]
  },
  {
   "cell_type": "code",
   "execution_count": 10,
   "metadata": {},
   "outputs": [
    {
     "name": "stdout",
     "output_type": "stream",
     "text": [
      "Epoch 1/50, Loss: 19730755.9569\n",
      "Epoch 2/50, Loss: 64.5831\n",
      "Epoch 3/50, Loss: 65.6452\n",
      "Epoch 4/50, Loss: 65.5035\n",
      "Epoch 5/50, Loss: 62.5815\n",
      "Epoch 6/50, Loss: 62.8095\n",
      "Epoch 7/50, Loss: 62.9623\n",
      "Epoch 8/50, Loss: 66.5178\n",
      "Epoch 9/50, Loss: 37881.5853\n",
      "Epoch 10/50, Loss: 62.5133\n"
     ]
    }
   ],
   "source": [
    "model.train()\n",
    "for epoch in range(10):\n",
    "    total_loss = 0\n",
    "    for batch in loader:\n",
    "        # Move batch tensors to the same device as model\n",
    "        batch = {k: v.to(device) for k, v in batch.items()}\n",
    "\n",
    "        output = model(\n",
    "            past_values=batch['past_values'],\n",
    "            past_time_features=batch['past_time_features'],\n",
    "            past_observed_mask=batch['past_observed_mask'],\n",
    "            future_values=batch['future_values'],\n",
    "            future_time_features=batch['future_time_features'],\n",
    "            # static_real_features=batch['static_real_features'],\n",
    "            # static_categorical_features=batch['static_categorical_features']\n",
    "        )\n",
    "\n",
    "        loss = output.loss\n",
    "        loss.backward()\n",
    "        optimizer.step()\n",
    "        optimizer.zero_grad()\n",
    "\n",
    "        total_loss += loss.item()\n",
    "\n",
    "    print(f\"Epoch {epoch+1}/{num_epochs}, Loss: {total_loss:.4f}\")"
   ]
  },
  {
   "cell_type": "markdown",
   "metadata": {},
   "source": [
    "Evaluation Part"
   ]
  },
  {
   "cell_type": "code",
   "execution_count": 11,
   "metadata": {},
   "outputs": [],
   "source": [
    "from sklearn.metrics import mean_squared_error, mean_absolute_error, r2_score\n",
    "import numpy as np\n",
    "\n",
    "\n",
    "def evaluate_forecast(y_true, y_pred):\n",
    "\n",
    "    mse = mean_squared_error(y_true, y_pred)\n",
    "    rmse = np.sqrt(mse)\n",
    "    mae = mean_absolute_error(y_true, y_pred)\n",
    "    r2 = r2_score(y_true, y_pred)\n",
    "\n",
    "    return {\n",
    "        'MSE': round(mse, 4),\n",
    "        'RMSE': round(rmse, 4),\n",
    "        'MAE': round(mae, 4),\n",
    "        'R2': round(r2, 4)\n",
    "    }"
   ]
  },
  {
   "cell_type": "markdown",
   "metadata": {},
   "source": [
    "Evaluation on a single batch"
   ]
  },
  {
   "cell_type": "code",
   "execution_count": 12,
   "metadata": {},
   "outputs": [
    {
     "name": "stdout",
     "output_type": "stream",
     "text": [
      "First-step Prediction:\n",
      " tensor([[ 8.1321e+01],\n",
      "        [ 2.5170e+01],\n",
      "        [ 4.0250e+01],\n",
      "        [ 1.5184e+02],\n",
      "        [ 2.3243e+02],\n",
      "        [ 2.0758e+00],\n",
      "        [ 2.4604e+02],\n",
      "        [ 1.5220e+02],\n",
      "        [ 1.0321e+02],\n",
      "        [ 8.0437e+01],\n",
      "        [ 1.5947e+02],\n",
      "        [ 2.7297e+01],\n",
      "        [ 1.0150e+02],\n",
      "        [ 8.7532e+00],\n",
      "        [ 4.8201e+01],\n",
      "        [ 1.2990e+01],\n",
      "        [ 1.0900e+01],\n",
      "        [ 3.9105e+01],\n",
      "        [ 2.4028e+01],\n",
      "        [ 9.8450e+01],\n",
      "        [ 7.3175e+01],\n",
      "        [-1.4168e+00],\n",
      "        [ 6.0945e+00],\n",
      "        [ 2.1414e+02],\n",
      "        [-7.7939e+01],\n",
      "        [ 7.4058e+01],\n",
      "        [ 3.0362e+01],\n",
      "        [ 2.1478e+00],\n",
      "        [ 5.1992e+01],\n",
      "        [ 2.2167e+01],\n",
      "        [ 9.4516e+01],\n",
      "        [ 7.8686e+01],\n",
      "        [ 1.5584e+02],\n",
      "        [ 7.8070e+01],\n",
      "        [ 4.6315e+00],\n",
      "        [ 1.2948e+00],\n",
      "        [ 7.5079e+01],\n",
      "        [ 9.1310e+01],\n",
      "        [ 5.7869e+01],\n",
      "        [ 1.0503e+01],\n",
      "        [ 1.3365e+02],\n",
      "        [ 1.3287e+02],\n",
      "        [ 1.3977e+01],\n",
      "        [ 3.7881e+01],\n",
      "        [ 8.9931e+01],\n",
      "        [ 1.7432e+02],\n",
      "        [ 9.5345e-01],\n",
      "        [ 8.3623e-02],\n",
      "        [ 3.3563e+01],\n",
      "        [ 6.9801e+01],\n",
      "        [ 1.2935e+02],\n",
      "        [ 2.4516e+01],\n",
      "        [ 6.4547e+01],\n",
      "        [ 6.1151e+01],\n",
      "        [ 1.7173e+02],\n",
      "        [ 7.5951e-01],\n",
      "        [ 1.1093e+02],\n",
      "        [ 6.0899e+01],\n",
      "        [ 5.2628e+01],\n",
      "        [ 1.8978e+01],\n",
      "        [ 3.3890e-01],\n",
      "        [ 3.4899e+00],\n",
      "        [ 1.3171e+02],\n",
      "        [ 4.9496e+01]])\n"
     ]
    }
   ],
   "source": [
    "model.eval()\n",
    "\n",
    "# Grab a batch\n",
    "for batch in loader:\n",
    "    batch = {k: v.to(device) for k, v in batch.items()}\n",
    "    break\n",
    "\n",
    "# Generate predictions\n",
    "with torch.no_grad():\n",
    "    outputs = model.generate(\n",
    "        past_values=batch['past_values'],\n",
    "        past_time_features=batch['past_time_features'],\n",
    "        past_observed_mask=batch['past_observed_mask'],\n",
    "        future_time_features=batch['future_time_features'],\n",
    "        # static_real_features=batch['static_real_features'],  # if you're using these\n",
    "        # static_categorical_features=batch['static_categorical_features'],\n",
    "    )\n",
    "\n",
    "normalized_forecast = outputs.sequences  \n",
    "\n",
    "loc = batch['past_values'].mean(dim=1, keepdim=True).unsqueeze(-1)   # [B, 1, 1]\n",
    "scale = batch['past_values'].std(dim=1, keepdim=True).unsqueeze(-1)  # [B, 1, 1]\n",
    "\n",
    "scale[scale == 0] = 1.0\n",
    "\n",
    "rescaled_forecast = normalized_forecast * scale + loc\n",
    "\n",
    "first_pred = rescaled_forecast[:, 0, :]  # [batch_size, 1]\n",
    "true_values = batch['future_values']\n",
    "\n",
    "\n",
    "true_values.cpu()\n",
    "first_pred.cpu()\n",
    "# print(\"Ground truth:\\n\", true_values)\n",
    "print(\"First-step Prediction:\\n\", first_pred)"
   ]
  },
  {
   "cell_type": "markdown",
   "metadata": {},
   "source": [
    "Evaluation on entire dataset"
   ]
  },
  {
   "cell_type": "code",
   "execution_count": 37,
   "metadata": {},
   "outputs": [
    {
     "name": "stdout",
     "output_type": "stream",
     "text": [
      "Evaluation Metrics (on full dataset): {'MSE': 7155.0371, 'RMSE': 84.5875, 'MAE': 59.1159, 'R2': -119.755}\n"
     ]
    }
   ],
   "source": [
    "model.eval()\n",
    "all_y_true = []\n",
    "all_y_pred = []\n",
    "\n",
    "with torch.no_grad():\n",
    "    for batch in loader:\n",
    "        batch = {k: v.to(device) for k, v in batch.items()}\n",
    "\n",
    "        outputs = model.generate(\n",
    "            past_values=batch['past_values'],\n",
    "            past_time_features=batch['past_time_features'],\n",
    "            past_observed_mask=batch['past_observed_mask'],\n",
    "            future_time_features=batch['future_time_features'],\n",
    "        )\n",
    "\n",
    "        normalized_forecast = outputs.sequences\n",
    "\n",
    "        loc = batch['past_values'].mean(dim=1, keepdim=True).unsqueeze(-1)\n",
    "        scale = batch['past_values'].std(dim=1, keepdim=True).unsqueeze(-1)\n",
    "        scale[scale == 0] = 1.0\n",
    "\n",
    "        rescaled_forecast = normalized_forecast * scale + loc\n",
    "        first_pred = rescaled_forecast[:, 0, :]  # First-step forecast\n",
    "\n",
    "        all_y_true.append(batch['future_values'].cpu().numpy())\n",
    "        all_y_pred.append(first_pred.cpu().numpy())\n",
    "\n",
    "# Flatten all results\n",
    "y_true = np.concatenate(all_y_true).flatten()\n",
    "y_pred = np.concatenate(all_y_pred).flatten()\n",
    "\n",
    "# Evaluate\n",
    "metrics = evaluate_forecast(y_true, y_pred)\n",
    "print(\"Evaluation Metrics (on full dataset):\", metrics)\n"
   ]
  },
  {
   "cell_type": "code",
   "execution_count": 15,
   "metadata": {},
   "outputs": [
    {
     "data": {
      "image/png": "[encoded data removed]",
      "text/plain": [
       "<Figure size 1000x500 with 1 Axes>"
      ]
     },
     "metadata": {},
     "output_type": "display_data"
    }
   ],
   "source": [
    "import matplotlib.pyplot as plt\n",
    "\n",
    "#single batch plotting\n",
    "y_true = true_values.cpu().numpy().flatten()\n",
    "y_pred = first_pred.cpu().numpy().flatten()\n",
    "\n",
    "# entire dataset\n",
    "# y_true = y_true.flatten()\n",
    "# y_pred = y_pred.flatten()\n",
    "\n",
    "# Plot\n",
    "plt.figure(figsize=(10, 5))\n",
    "plt.plot(y_true, label=\"True Values\", marker='o')\n",
    "plt.plot(y_pred, label=\"Predicted Values\", marker='x')\n",
    "plt.title(\"First-step Forecast vs Ground Truth\")\n",
    "plt.xlabel(\"Sample Index (Batch-wise)\")\n",
    "plt.ylabel(\"Target Value\")\n",
    "plt.legend()\n",
    "plt.grid(True)\n",
    "plt.tight_layout()\n",
    "plt.show()\n"
   ]
  },
  {
   "cell_type": "markdown",
   "metadata": {},
   "source": [
    "##### INITIAL MODEL CONFIGURATION"
   ]
  },
  {
   "cell_type": "code",
   "execution_count": 41,
   "metadata": {},
   "outputs": [],
   "source": [
    "output = model.forward(\n",
    "    past_values=batch['past_values'],\n",
    "    past_time_features=batch['past_time_features'],\n",
    "    past_observed_mask=batch['past_observed_mask'],\n",
    "    future_values=batch['future_values'],\n",
    "    future_time_features=batch['future_time_features']\n",
    ")"
   ]
  },
  {
   "cell_type": "code",
   "execution_count": 42,
   "metadata": {},
   "outputs": [],
   "source": [
    "loss = output.loss"
   ]
  },
  {
   "cell_type": "code",
   "execution_count": 43,
   "metadata": {},
   "outputs": [],
   "source": [
    "loss.backward()"
   ]
  },
  {
   "cell_type": "code",
   "execution_count": 44,
   "metadata": {},
   "outputs": [],
   "source": [
    "outputs = model.generate(\n",
    "    past_values=batch['past_values'],\n",
    "    past_time_features=batch['past_time_features'],\n",
    "    past_observed_mask=batch['past_observed_mask'],\n",
    "    future_time_features=batch['future_time_features']\n",
    ")"
   ]
  },
  {
   "cell_type": "code",
   "execution_count": 45,
   "metadata": {},
   "outputs": [
    {
     "data": {
      "text/plain": [
       "tensor([[[25.6606],\n",
       "         [ 3.5518],\n",
       "         [15.7382],\n",
       "         ...,\n",
       "         [16.0798],\n",
       "         [11.3151],\n",
       "         [ 6.9202]],\n",
       "\n",
       "        [[13.4629],\n",
       "         [-3.9570],\n",
       "         [-6.3481],\n",
       "         ...,\n",
       "         [ 8.5148],\n",
       "         [ 7.9559],\n",
       "         [12.4540]],\n",
       "\n",
       "        [[10.8084],\n",
       "         [ 8.4406],\n",
       "         [10.0167],\n",
       "         ...,\n",
       "         [ 7.2567],\n",
       "         [20.4068],\n",
       "         [11.1153]],\n",
       "\n",
       "        ...,\n",
       "\n",
       "        [[-0.4602],\n",
       "         [ 3.1725],\n",
       "         [ 1.0674],\n",
       "         ...,\n",
       "         [ 4.0204],\n",
       "         [ 0.9685],\n",
       "         [-1.6581]],\n",
       "\n",
       "        [[21.7312],\n",
       "         [35.1371],\n",
       "         [12.3529],\n",
       "         ...,\n",
       "         [20.6746],\n",
       "         [21.2995],\n",
       "         [28.3973]],\n",
       "\n",
       "        [[14.2666],\n",
       "         [ 9.1209],\n",
       "         [13.1651],\n",
       "         ...,\n",
       "         [11.8421],\n",
       "         [ 2.3601],\n",
       "         [20.3621]]])"
      ]
     },
     "execution_count": 45,
     "metadata": {},
     "output_type": "execute_result"
    }
   ],
   "source": [
    "outputs.sequences"
   ]
  },
  {
   "cell_type": "code",
   "execution_count": 46,
   "metadata": {},
   "outputs": [
    {
     "name": "stdout",
     "output_type": "stream",
     "text": [
      "Rescaled forecast shape: torch.Size([12, 100, 1])\n",
      "Rescaled forecast: torch.Size([12, 100, 1])\n"
     ]
    }
   ],
   "source": [
    "# Unsqueeze loc and scale for broadcasting\n",
    "loc = output.loc.unsqueeze(1)      # [10, 1] -> [10, 1, 1]\n",
    "scale = output.scale.unsqueeze(1)  # [10, 1] -> [10, 1, 1]\n",
    "\n",
    "# Decode\n",
    "normalized_forecast = outputs.sequences\n",
    "rescaled_forecast = normalized_forecast * scale + loc\n",
    "\n",
    "print(\"Rescaled forecast shape:\", normalized_forecast.shape)\n",
    "print(\"Rescaled forecast:\", rescaled_forecast.shape)\n"
   ]
  },
  {
   "cell_type": "code",
   "execution_count": 47,
   "metadata": {},
   "outputs": [
    {
     "data": {
      "text/plain": [
       "torch.Size([12, 100, 1])"
      ]
     },
     "execution_count": 47,
     "metadata": {},
     "output_type": "execute_result"
    }
   ],
   "source": [
    "outputs.sequences.shape"
   ]
  },
  {
   "cell_type": "code",
   "execution_count": 48,
   "metadata": {},
   "outputs": [
    {
     "name": "stdout",
     "output_type": "stream",
     "text": [
      "Ground truth: tensor([[14.],\n",
      "        [ 8.],\n",
      "        [12.],\n",
      "        [19.],\n",
      "        [ 8.],\n",
      "        [ 0.],\n",
      "        [14.],\n",
      "        [ 4.],\n",
      "        [ 0.],\n",
      "        [ 6.],\n",
      "        [35.],\n",
      "        [ 5.]])\n",
      "Prediction: tensor([[[446.4944],\n",
      "         [ 61.8021],\n",
      "         [273.8442],\n",
      "         ...,\n",
      "         [279.7879],\n",
      "         [196.8835],\n",
      "         [120.4110]],\n",
      "\n",
      "        [[117.1268],\n",
      "         [-34.4260],\n",
      "         [-55.2286],\n",
      "         ...,\n",
      "         [ 74.0785],\n",
      "         [ 69.2160],\n",
      "         [108.3498]],\n",
      "\n",
      "        [[ 92.9526],\n",
      "         [ 72.5889],\n",
      "         [ 86.1438],\n",
      "         ...,\n",
      "         [ 62.4075],\n",
      "         [175.4983],\n",
      "         [ 95.5919]],\n",
      "\n",
      "        ...,\n",
      "\n",
      "        [[ -1.9329],\n",
      "         [ 13.3246],\n",
      "         [  4.4832],\n",
      "         ...,\n",
      "         [ 16.8858],\n",
      "         [  4.0675],\n",
      "         [ -6.9642]],\n",
      "\n",
      "        [[358.5654],\n",
      "         [579.7618],\n",
      "         [203.8222],\n",
      "         ...,\n",
      "         [341.1315],\n",
      "         [351.4420],\n",
      "         [468.5555]],\n",
      "\n",
      "        [[144.0923],\n",
      "         [ 92.1210],\n",
      "         [132.9674],\n",
      "         ...,\n",
      "         [119.6049],\n",
      "         [ 23.8371],\n",
      "         [205.6570]]])\n"
     ]
    }
   ],
   "source": [
    "true_values = batch['future_values']\n",
    "print(\"Ground truth:\", true_values)\n",
    "print(\"Prediction:\", rescaled_forecast)\n"
   ]
  },
  {
   "cell_type": "code",
   "execution_count": 49,
   "metadata": {},
   "outputs": [
    {
     "name": "stdout",
     "output_type": "stream",
     "text": [
      "Ground truth: tensor([[14.],\n",
      "        [ 8.],\n",
      "        [12.],\n",
      "        [19.],\n",
      "        [ 8.],\n",
      "        [ 0.],\n",
      "        [14.],\n",
      "        [ 4.],\n",
      "        [ 0.],\n",
      "        [ 6.],\n",
      "        [35.],\n",
      "        [ 5.]])\n",
      "Prediction: tensor([[446.4944],\n",
      "        [117.1268],\n",
      "        [ 92.9526],\n",
      "        [146.5191],\n",
      "        [229.4178],\n",
      "        [  0.5588],\n",
      "        [ 33.0983],\n",
      "        [  4.8480],\n",
      "        [ 24.8044],\n",
      "        [ -1.9329],\n",
      "        [358.5654],\n",
      "        [144.0923]])\n"
     ]
    }
   ],
   "source": [
    "first_pred = rescaled_forecast[:, 0, :]  # shape: [10, 1]\n",
    "true_values = batch['future_values']  # shape: [10, 1]\n",
    "print(\"Ground truth:\", true_values)\n",
    "print(\"Prediction:\", first_pred)"
   ]
  },
  {
   "cell_type": "code",
   "execution_count": null,
   "metadata": {},
   "outputs": [],
   "source": []
  }
 ],
 "metadata": {
  "kernelspec": {
   "display_name": "myenv",
   "language": "python",
   "name": "python3"
  },
  "language_info": {
   "codemirror_mode": {
    "name": "ipython",
    "version": 3
   },
   "file_extension": ".py",
   "mimetype": "text/x-python",
   "name": "python",
   "nbconvert_exporter": "python",
   "pygments_lexer": "ipython3",
   "version": "3.12.3"
  }
 },
 "nbformat": 4,
 "nbformat_minor": 2
}
