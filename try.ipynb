{
 "cells": [
  {
   "cell_type": "code",
   "execution_count": 18,
   "metadata": {},
   "outputs": [],
   "source": [
    "import pandas as pdÍ\n",
    "import numpy as np\n",
    "import torch\n",
    "from sklearn.preprocessing import MinMaxScaler\n",
    "from torch.utils.data import Dataset, DataLoader\n",
    "import matplotlib.pyplot as plt\n",
    "import pandas as pd"
   ]
  },
  {
   "cell_type": "code",
   "execution_count": 19,
   "metadata": {},
   "outputs": [
    {
     "data": {
      "text/html": [
       "<div>\n",
       "<style scoped>\n",
       "    .dataframe tbody tr th:only-of-type {\n",
       "        vertical-align: middle;\n",
       "    }\n",
       "\n",
       "    .dataframe tbody tr th {\n",
       "        vertical-align: top;\n",
       "    }\n",
       "\n",
       "    .dataframe thead th {\n",
       "        text-align: right;\n",
       "    }\n",
       "</style>\n",
       "<table border=\"1\" class=\"dataframe\">\n",
       "  <thead>\n",
       "    <tr style=\"text-align: right;\">\n",
       "      <th></th>\n",
       "      <th>requests</th>\n",
       "      <th>memory</th>\n",
       "      <th>cpu</th>\n",
       "      <th>timestamp</th>\n",
       "    </tr>\n",
       "  </thead>\n",
       "  <tbody>\n",
       "    <tr>\n",
       "      <th>0</th>\n",
       "      <td>6.0</td>\n",
       "      <td>0.105</td>\n",
       "      <td>0.003</td>\n",
       "      <td>2023-10-01 00:00:00</td>\n",
       "    </tr>\n",
       "    <tr>\n",
       "      <th>1</th>\n",
       "      <td>29.0</td>\n",
       "      <td>0.104</td>\n",
       "      <td>0.004</td>\n",
       "      <td>2023-10-01 00:01:00</td>\n",
       "    </tr>\n",
       "    <tr>\n",
       "      <th>2</th>\n",
       "      <td>12.0</td>\n",
       "      <td>0.105</td>\n",
       "      <td>0.003</td>\n",
       "      <td>2023-10-01 00:02:00</td>\n",
       "    </tr>\n",
       "    <tr>\n",
       "      <th>3</th>\n",
       "      <td>18.0</td>\n",
       "      <td>0.105</td>\n",
       "      <td>0.004</td>\n",
       "      <td>2023-10-01 00:03:00</td>\n",
       "    </tr>\n",
       "    <tr>\n",
       "      <th>4</th>\n",
       "      <td>4.0</td>\n",
       "      <td>0.105</td>\n",
       "      <td>0.003</td>\n",
       "      <td>2023-10-01 00:04:00</td>\n",
       "    </tr>\n",
       "  </tbody>\n",
       "</table>\n",
       "</div>"
      ],
      "text/plain": [
       "   requests  memory    cpu           timestamp\n",
       "0       6.0   0.105  0.003 2023-10-01 00:00:00\n",
       "1      29.0   0.104  0.004 2023-10-01 00:01:00\n",
       "2      12.0   0.105  0.003 2023-10-01 00:02:00\n",
       "3      18.0   0.105  0.004 2023-10-01 00:03:00\n",
       "4       4.0   0.105  0.003 2023-10-01 00:04:00"
      ]
     },
     "execution_count": 19,
     "metadata": {},
     "output_type": "execute_result"
    }
   ],
   "source": [
    "df = pd.read_csv(\"preprocessed_dataset.csv\", parse_dates=[\"timestamp\"])\n",
    "df.head()"
   ]
  },
  {
   "cell_type": "code",
   "execution_count": 38,
   "metadata": {},
   "outputs": [],
   "source": [
    "df = pd.read_csv(\"preprocessed_dataset.csv\", parse_dates=[\"timestamp\"])\n",
    "\n",
    "# Ensure data is sorted by timestamp\n",
    "df = df.sort_values(by=\"timestamp\").reset_index(drop=True)\n",
    "\n",
    "# Select relevant columns\n",
    "target_col = \"requests\"\n",
    "feature_cols = [\"memory\", \"cpu\"]\n",
    "\n",
    "# Normalize features\n",
    "scaler_x = MinMaxScaler()\n",
    "scaler_y = MinMaxScaler()\n",
    "\n",
    "df[feature_cols] = scaler_x.fit_transform(df[feature_cols])\n",
    "df[target_col] = scaler_y.fit_transform(df[[target_col]])\n",
    "\n",
    "# Convert DataFrame to NumPy array\n",
    "data = df[[\"requests\", \"memory\", \"cpu\"]].values\n"
   ]
  },
  {
   "cell_type": "code",
   "execution_count": 43,
   "metadata": {},
   "outputs": [
    {
     "data": {
      "text/plain": [
       "(1440, 3)"
      ]
     },
     "execution_count": 43,
     "metadata": {},
     "output_type": "execute_result"
    }
   ],
   "source": [
    "data.shape"
   ]
  },
  {
   "cell_type": "code",
   "execution_count": 39,
   "metadata": {},
   "outputs": [],
   "source": [
    "class TimeSeriesDataset(Dataset):\n",
    "    def __init__(self, data, input_len=12, pred_len=12):  # Increased input_len to avoid lag errors\n",
    "        self.data = data\n",
    "        self.input_len = input_len\n",
    "        self.pred_len = pred_len\n",
    "\n",
    "    def __len__(self):\n",
    "        return len(self.data) - self.input_len - self.pred_len\n",
    "\n",
    "    def __getitem__(self, index):\n",
    "        past_values = self.data[index : index + self.input_len]\n",
    "        future_values = self.data[index + self.input_len : index + self.input_len + self.pred_len]\n",
    "        \n",
    "        # Create a binary mask (1 for observed values)\n",
    "        past_observed_mask = np.ones_like(past_values)\n",
    "\n",
    "        # Extract time features (e.g., normalized time step indices)\n",
    "        past_time_features = np.expand_dims(np.arange(self.input_len) / self.input_len, axis=1)\n",
    "\n",
    "        return (\n",
    "            torch.tensor(past_values, dtype=torch.float32),\n",
    "            torch.tensor(past_time_features, dtype=torch.float32),\n",
    "            torch.tensor(past_observed_mask, dtype=torch.float32),\n",
    "            torch.tensor(future_values, dtype=torch.float32),\n",
    "        )"
   ]
  },
  {
   "cell_type": "code",
   "execution_count": 40,
   "metadata": {},
   "outputs": [],
   "source": [
    "# Define sequence lengths\n",
    "input_len = 24  # Increased to avoid lag-related errors\n",
    "pred_len = 12   # Forecasting 12 time steps ahead\n",
    "\n",
    "\n",
    "# Create dataset\n",
    "dataset = TimeSeriesDataset(data, input_len, pred_len)\n",
    "# Create DataLoader\n",
    "train_loader = DataLoader(dataset, batch_size=16, shuffle=True, num_workers=0)"
   ]
  },
  {
   "cell_type": "code",
   "execution_count": 41,
   "metadata": {},
   "outputs": [
    {
     "data": {
      "text/plain": [
       "1404"
      ]
     },
     "execution_count": 41,
     "metadata": {},
     "output_type": "execute_result"
    }
   ],
   "source": [
    "len(dataset)"
   ]
  },
  {
   "cell_type": "code",
   "execution_count": null,
   "metadata": {},
   "outputs": [
    {
     "name": "stdout",
     "output_type": "stream",
     "text": [
      "Batch length: 4\n",
      "past_values shape: torch.Size([16, 112, 3])\n",
      "past_time_features shape: torch.Size([16, 112, 1])\n",
      "past_observed_mask shape: torch.Size([16, 112, 3])\n",
      "future_values shape: torch.Size([16, 12, 3])\n"
     ]
    }
   ],
   "source": [
    "for batch in train_loader:\n",
    "    print(f\"Batch length: {len(batch)}\")  # Should print 4\n",
    "    print(f\"past_values shape: {batch[0].shape}\")  # (batch_size, input_len, features)\n",
    "    print(f\"past_time_features shape: {batch[1].shape}\")  \n",
    "    print(f\"past_observed_mask shape: {batch[2].shape}\")  \n",
    "    print(f\"future_values shape: {batch[3].shape}\")  \n",
    "    break  # Only print once\n"
   ]
  },
  {
   "cell_type": "code",
   "execution_count": null,
   "metadata": {},
   "outputs": [],
   "source": [
    "device = torch.device(\"cuda\" if torch.cuda.is_available() else \"cpu\")"
   ]
  },
  {
   "cell_type": "code",
   "execution_count": null,
   "metadata": {},
   "outputs": [],
   "source": [
    "from transformers import AutoformerConfig, AutoformerModel\n",
    "\n",
    "# Define model configuration\n",
    "config = AutoformerConfig(\n",
    "    prediction_length=pred_len,\n",
    "    context_length=input_len,  \n",
    "    input_size=len(feature_cols),  \n",
    "    lags_sequence=[1, 2, 3, 4],  # Manually define lags (must be <= context_length)\n",
    ")\n",
    "\n",
    "# Initialize model\n",
    "model = AutoformerModel(config).to(device)\n"
   ]
  },
  {
   "cell_type": "code",
   "execution_count": null,
   "metadata": {},
   "outputs": [
    {
     "data": {
      "text/plain": [
       "<generator object Module.parameters at 0x788f9c257ae0>"
      ]
     },
     "execution_count": 23,
     "metadata": {},
     "output_type": "execute_result"
    }
   ],
   "source": [
    "model.parameters()"
   ]
  },
  {
   "cell_type": "code",
   "execution_count": null,
   "metadata": {},
   "outputs": [],
   "source": [
    "import torch.optim as optim\n",
    "\n",
    "criterion = torch.nn.MSELoss()\n",
    "optimizer = optim.Adam(model.parameters(), lr=0.001)\n"
   ]
  },
  {
   "cell_type": "code",
   "execution_count": null,
   "metadata": {},
   "outputs": [
    {
     "name": "stdout",
     "output_type": "stream",
     "text": [
      "mask:  torch.Size([16, 112, 3])\n"
     ]
    },
    {
     "ename": "ValueError",
     "evalue": "lags cannot go further than history length, found lag 4 while history length is only 112",
     "output_type": "error",
     "traceback": [
      "\u001b[31m---------------------------------------------------------------------------\u001b[39m",
      "\u001b[31mValueError\u001b[39m                                Traceback (most recent call last)",
      "\u001b[36mCell\u001b[39m\u001b[36m \u001b[39m\u001b[32mIn[26]\u001b[39m\u001b[32m, line 18\u001b[39m\n\u001b[32m     15\u001b[39m optimizer.zero_grad()\n\u001b[32m     17\u001b[39m \u001b[38;5;66;03m# Forward pass (passing correct inputs)\u001b[39;00m\n\u001b[32m---> \u001b[39m\u001b[32m18\u001b[39m outputs = \u001b[43mmodel\u001b[49m\u001b[43m(\u001b[49m\n\u001b[32m     19\u001b[39m \u001b[43m    \u001b[49m\u001b[43mpast_time_features\u001b[49m\u001b[43m=\u001b[49m\u001b[43mpast_time_features\u001b[49m\u001b[43m,\u001b[49m\n\u001b[32m     20\u001b[39m \u001b[43m    \u001b[49m\u001b[43mpast_observed_mask\u001b[49m\u001b[43m=\u001b[49m\u001b[43mpast_observed_mask\u001b[49m\u001b[43m,\u001b[49m\n\u001b[32m     21\u001b[39m \u001b[43m    \u001b[49m\u001b[43mpast_values\u001b[49m\u001b[43m=\u001b[49m\u001b[43mpast_values\u001b[49m\n\u001b[32m     22\u001b[39m \u001b[43m\u001b[49m\u001b[43m)\u001b[49m.last_hidden_state  \u001b[38;5;66;03m# Extract predictions\u001b[39;00m\n\u001b[32m     24\u001b[39m loss = criterion(outputs, y)\n\u001b[32m     25\u001b[39m loss.backward()\n",
      "\u001b[36mFile \u001b[39m\u001b[32m~/projects/publish/newenv/lib/python3.12/site-packages/torch/nn/modules/module.py:1739\u001b[39m, in \u001b[36mModule._wrapped_call_impl\u001b[39m\u001b[34m(self, *args, **kwargs)\u001b[39m\n\u001b[32m   1737\u001b[39m     \u001b[38;5;28;01mreturn\u001b[39;00m \u001b[38;5;28mself\u001b[39m._compiled_call_impl(*args, **kwargs)  \u001b[38;5;66;03m# type: ignore[misc]\u001b[39;00m\n\u001b[32m   1738\u001b[39m \u001b[38;5;28;01melse\u001b[39;00m:\n\u001b[32m-> \u001b[39m\u001b[32m1739\u001b[39m     \u001b[38;5;28;01mreturn\u001b[39;00m \u001b[38;5;28;43mself\u001b[39;49m\u001b[43m.\u001b[49m\u001b[43m_call_impl\u001b[49m\u001b[43m(\u001b[49m\u001b[43m*\u001b[49m\u001b[43margs\u001b[49m\u001b[43m,\u001b[49m\u001b[43m \u001b[49m\u001b[43m*\u001b[49m\u001b[43m*\u001b[49m\u001b[43mkwargs\u001b[49m\u001b[43m)\u001b[49m\n",
      "\u001b[36mFile \u001b[39m\u001b[32m~/projects/publish/newenv/lib/python3.12/site-packages/torch/nn/modules/module.py:1750\u001b[39m, in \u001b[36mModule._call_impl\u001b[39m\u001b[34m(self, *args, **kwargs)\u001b[39m\n\u001b[32m   1745\u001b[39m \u001b[38;5;66;03m# If we don't have any hooks, we want to skip the rest of the logic in\u001b[39;00m\n\u001b[32m   1746\u001b[39m \u001b[38;5;66;03m# this function, and just call forward.\u001b[39;00m\n\u001b[32m   1747\u001b[39m \u001b[38;5;28;01mif\u001b[39;00m \u001b[38;5;129;01mnot\u001b[39;00m (\u001b[38;5;28mself\u001b[39m._backward_hooks \u001b[38;5;129;01mor\u001b[39;00m \u001b[38;5;28mself\u001b[39m._backward_pre_hooks \u001b[38;5;129;01mor\u001b[39;00m \u001b[38;5;28mself\u001b[39m._forward_hooks \u001b[38;5;129;01mor\u001b[39;00m \u001b[38;5;28mself\u001b[39m._forward_pre_hooks\n\u001b[32m   1748\u001b[39m         \u001b[38;5;129;01mor\u001b[39;00m _global_backward_pre_hooks \u001b[38;5;129;01mor\u001b[39;00m _global_backward_hooks\n\u001b[32m   1749\u001b[39m         \u001b[38;5;129;01mor\u001b[39;00m _global_forward_hooks \u001b[38;5;129;01mor\u001b[39;00m _global_forward_pre_hooks):\n\u001b[32m-> \u001b[39m\u001b[32m1750\u001b[39m     \u001b[38;5;28;01mreturn\u001b[39;00m \u001b[43mforward_call\u001b[49m\u001b[43m(\u001b[49m\u001b[43m*\u001b[49m\u001b[43margs\u001b[49m\u001b[43m,\u001b[49m\u001b[43m \u001b[49m\u001b[43m*\u001b[49m\u001b[43m*\u001b[49m\u001b[43mkwargs\u001b[49m\u001b[43m)\u001b[49m\n\u001b[32m   1752\u001b[39m result = \u001b[38;5;28;01mNone\u001b[39;00m\n\u001b[32m   1753\u001b[39m called_always_called_hooks = \u001b[38;5;28mset\u001b[39m()\n",
      "\u001b[36mFile \u001b[39m\u001b[32m~/projects/publish/newenv/lib/python3.12/site-packages/transformers/models/autoformer/modeling_autoformer.py:1660\u001b[39m, in \u001b[36mAutoformerModel.forward\u001b[39m\u001b[34m(self, past_values, past_time_features, past_observed_mask, static_categorical_features, static_real_features, future_values, future_time_features, decoder_attention_mask, head_mask, decoder_head_mask, cross_attn_head_mask, encoder_outputs, past_key_values, output_hidden_states, output_attentions, use_cache, return_dict)\u001b[39m\n\u001b[32m   1657\u001b[39m use_cache = use_cache \u001b[38;5;28;01mif\u001b[39;00m use_cache \u001b[38;5;129;01mis\u001b[39;00m \u001b[38;5;129;01mnot\u001b[39;00m \u001b[38;5;28;01mNone\u001b[39;00m \u001b[38;5;28;01melse\u001b[39;00m \u001b[38;5;28mself\u001b[39m.config.use_cache\n\u001b[32m   1658\u001b[39m return_dict = return_dict \u001b[38;5;28;01mif\u001b[39;00m return_dict \u001b[38;5;129;01mis\u001b[39;00m \u001b[38;5;129;01mnot\u001b[39;00m \u001b[38;5;28;01mNone\u001b[39;00m \u001b[38;5;28;01melse\u001b[39;00m \u001b[38;5;28mself\u001b[39m.config.use_return_dict\n\u001b[32m-> \u001b[39m\u001b[32m1660\u001b[39m transformer_inputs, temporal_features, loc, scale, static_feat = \u001b[38;5;28;43mself\u001b[39;49m\u001b[43m.\u001b[49m\u001b[43mcreate_network_inputs\u001b[49m\u001b[43m(\u001b[49m\n\u001b[32m   1661\u001b[39m \u001b[43m    \u001b[49m\u001b[43mpast_values\u001b[49m\u001b[43m=\u001b[49m\u001b[43mpast_values\u001b[49m\u001b[43m,\u001b[49m\n\u001b[32m   1662\u001b[39m \u001b[43m    \u001b[49m\u001b[43mpast_time_features\u001b[49m\u001b[43m=\u001b[49m\u001b[43mpast_time_features\u001b[49m\u001b[43m,\u001b[49m\n\u001b[32m   1663\u001b[39m \u001b[43m    \u001b[49m\u001b[43mpast_observed_mask\u001b[49m\u001b[43m=\u001b[49m\u001b[43mpast_observed_mask\u001b[49m\u001b[43m,\u001b[49m\n\u001b[32m   1664\u001b[39m \u001b[43m    \u001b[49m\u001b[43mstatic_categorical_features\u001b[49m\u001b[43m=\u001b[49m\u001b[43mstatic_categorical_features\u001b[49m\u001b[43m,\u001b[49m\n\u001b[32m   1665\u001b[39m \u001b[43m    \u001b[49m\u001b[43mstatic_real_features\u001b[49m\u001b[43m=\u001b[49m\u001b[43mstatic_real_features\u001b[49m\u001b[43m,\u001b[49m\n\u001b[32m   1666\u001b[39m \u001b[43m    \u001b[49m\u001b[43mfuture_values\u001b[49m\u001b[43m=\u001b[49m\u001b[43mfuture_values\u001b[49m\u001b[43m,\u001b[49m\n\u001b[32m   1667\u001b[39m \u001b[43m    \u001b[49m\u001b[43mfuture_time_features\u001b[49m\u001b[43m=\u001b[49m\u001b[43mfuture_time_features\u001b[49m\u001b[43m,\u001b[49m\n\u001b[32m   1668\u001b[39m \u001b[43m\u001b[49m\u001b[43m)\u001b[49m\n\u001b[32m   1670\u001b[39m \u001b[38;5;28;01mif\u001b[39;00m encoder_outputs \u001b[38;5;129;01mis\u001b[39;00m \u001b[38;5;28;01mNone\u001b[39;00m:\n\u001b[32m   1671\u001b[39m     enc_input = torch.cat(\n\u001b[32m   1672\u001b[39m         (\n\u001b[32m   1673\u001b[39m             transformer_inputs[:, : \u001b[38;5;28mself\u001b[39m.config.context_length, ...],\n\u001b[32m   (...)\u001b[39m\u001b[32m   1676\u001b[39m         dim=-\u001b[32m1\u001b[39m,\n\u001b[32m   1677\u001b[39m     )\n",
      "\u001b[36mFile \u001b[39m\u001b[32m~/projects/publish/newenv/lib/python3.12/site-packages/transformers/models/autoformer/modeling_autoformer.py:1585\u001b[39m, in \u001b[36mAutoformerModel.create_network_inputs\u001b[39m\u001b[34m(self, past_values, past_time_features, static_categorical_features, static_real_features, past_observed_mask, future_values, future_time_features)\u001b[39m\n\u001b[32m   1579\u001b[39m \u001b[38;5;66;03m# lagged features\u001b[39;00m\n\u001b[32m   1580\u001b[39m subsequences_length = (\n\u001b[32m   1581\u001b[39m     \u001b[38;5;28mself\u001b[39m.config.context_length + \u001b[38;5;28mself\u001b[39m.config.prediction_length\n\u001b[32m   1582\u001b[39m     \u001b[38;5;28;01mif\u001b[39;00m future_values \u001b[38;5;129;01mis\u001b[39;00m \u001b[38;5;129;01mnot\u001b[39;00m \u001b[38;5;28;01mNone\u001b[39;00m\n\u001b[32m   1583\u001b[39m     \u001b[38;5;28;01melse\u001b[39;00m \u001b[38;5;28mself\u001b[39m.config.context_length\n\u001b[32m   1584\u001b[39m )\n\u001b[32m-> \u001b[39m\u001b[32m1585\u001b[39m lagged_sequence = \u001b[38;5;28;43mself\u001b[39;49m\u001b[43m.\u001b[49m\u001b[43mget_lagged_subsequences\u001b[49m\u001b[43m(\u001b[49m\u001b[43msequence\u001b[49m\u001b[43m=\u001b[49m\u001b[43minputs\u001b[49m\u001b[43m,\u001b[49m\u001b[43m \u001b[49m\u001b[43msubsequences_length\u001b[49m\u001b[43m=\u001b[49m\u001b[43msubsequences_length\u001b[49m\u001b[43m)\u001b[49m\n\u001b[32m   1586\u001b[39m lags_shape = lagged_sequence.shape\n\u001b[32m   1587\u001b[39m reshaped_lagged_sequence = lagged_sequence.reshape(lags_shape[\u001b[32m0\u001b[39m], lags_shape[\u001b[32m1\u001b[39m], -\u001b[32m1\u001b[39m)\n",
      "\u001b[36mFile \u001b[39m\u001b[32m~/projects/publish/newenv/lib/python3.12/site-packages/transformers/models/autoformer/modeling_autoformer.py:1480\u001b[39m, in \u001b[36mAutoformerModel.get_lagged_subsequences\u001b[39m\u001b[34m(self, sequence, subsequences_length, shift)\u001b[39m\n\u001b[32m   1478\u001b[39m sequence_length = sequence.shape[\u001b[32m1\u001b[39m]\n\u001b[32m   1479\u001b[39m \u001b[38;5;28;01mif\u001b[39;00m \u001b[38;5;28mmax\u001b[39m(indices) + subsequences_length > sequence_length:\n\u001b[32m-> \u001b[39m\u001b[32m1480\u001b[39m     \u001b[38;5;28;01mraise\u001b[39;00m \u001b[38;5;167;01mValueError\u001b[39;00m(\n\u001b[32m   1481\u001b[39m         \u001b[33mf\u001b[39m\u001b[33m\"\u001b[39m\u001b[33mlags cannot go further than history length, found lag \u001b[39m\u001b[38;5;132;01m{\u001b[39;00m\u001b[38;5;28mmax\u001b[39m(indices)\u001b[38;5;132;01m}\u001b[39;00m\u001b[33m \u001b[39m\u001b[33m\"\u001b[39m\n\u001b[32m   1482\u001b[39m         \u001b[33mf\u001b[39m\u001b[33m\"\u001b[39m\u001b[33mwhile history length is only \u001b[39m\u001b[38;5;132;01m{\u001b[39;00msequence_length\u001b[38;5;132;01m}\u001b[39;00m\u001b[33m\"\u001b[39m\n\u001b[32m   1483\u001b[39m     )\n\u001b[32m   1485\u001b[39m \u001b[38;5;66;03m# extracts the lagged subsequences from the input sequence using the calculated indices\u001b[39;00m\n\u001b[32m   1486\u001b[39m lagged_values = []\n",
      "\u001b[31mValueError\u001b[39m: lags cannot go further than history length, found lag 4 while history length is only 112"
     ]
    }
   ],
   "source": [
    "num_epochs = 10\n",
    "for epoch in range(num_epochs):\n",
    "    model.train()\n",
    "    total_loss = 0\n",
    "\n",
    "    for past_values, past_time_features, past_observed_mask, future_values in train_loader:\n",
    "        past_time_features, past_observed_mask, past_values = (\n",
    "            past_time_features.to(device),\n",
    "            past_observed_mask.to(device),\n",
    "            past_values.to(device),\n",
    "        )\n",
    "\n",
    "        # print(past_time_features.shape)\n",
    "        print(\"mask: \", past_observed_mask.shape)\n",
    "        optimizer.zero_grad()\n",
    "        \n",
    "        # Forward pass (passing correct inputs)\n",
    "        outputs = model(\n",
    "            past_time_features=past_time_features,\n",
    "            past_observed_mask=past_observed_mask,\n",
    "            past_values=past_values\n",
    "        ).last_hidden_state  # Extract predictions\n",
    "\n",
    "        loss = criterion(outputs, y)\n",
    "        loss.backward()\n",
    "        optimizer.step()\n",
    "        \n",
    "        total_loss += loss.item()\n",
    "    \n",
    "    print(f\"Epoch [{epoch+1}/{num_epochs}], Loss: {total_loss / len(train_loader):.4f}\")\n"
   ]
  },
  {
   "cell_type": "markdown",
   "metadata": {},
   "source": [
    "### Demo"
   ]
  },
  {
   "cell_type": "code",
   "execution_count": 32,
   "metadata": {},
   "outputs": [],
   "source": [
    "import pandas as pd\n",
    "import numpy as np\n",
    "import torch\n",
    "from torch.utils.data import Dataset, DataLoader\n",
    "from sklearn.preprocessing import MinMaxScaler\n",
    "from transformers import AutoformerConfig, AutoformerForPrediction, Trainer, TrainingArguments"
   ]
  },
  {
   "cell_type": "code",
   "execution_count": 14,
   "metadata": {},
   "outputs": [],
   "source": [
    "df = pd.read_csv(\"preprocessed_dataset.csv\")\n",
    "\n",
    "df['timestamp'] = pd.to_datetime(df['timestamp'])\n",
    "\n",
    "input_features = ['memory', 'cpu']\n",
    "target_feature = 'requests'"
   ]
  },
  {
   "cell_type": "code",
   "execution_count": 43,
   "metadata": {},
   "outputs": [],
   "source": [
    "scaler = MinMaxScaler()\n",
    "df[input_features + [target_feature]] = scaler.fit_transform(df[input_features + [target_feature]])\n",
    "\n",
    "input_length = 48 \n",
    "prediction_length = 24 "
   ]
  },
  {
   "cell_type": "code",
   "execution_count": null,
   "metadata": {},
   "outputs": [],
   "source": [
    "# Create dataset class\n",
    "class TimeSeriesDataset(Dataset):\n",
    "    def __init__(self, df, input_length, prediction_length):\n",
    "        self.data = df\n",
    "        self.input_length = input_length\n",
    "        self.prediction_length = prediction_length\n",
    "        \n",
    "    def __len__(self):\n",
    "        return len(self.data) - self.input_length - self.prediction_length + 1\n",
    "    \n",
    "    def __getitem__(self, idx):\n",
    "        past_values = self.data.loc[idx : idx + self.input_length, target_feature].values\n",
    "        future_values = self.data.loc[idx + self.input_length : idx + self.input_length + self.prediction_length, target_feature].values\n",
    "        past_time_features = self.data.loc[idx : idx + self.input_length, input_features].values.reshape(self.input_length, -1)\n",
    "        future_time_features = self.data.loc[idx + self.input_length : idx + self.input_length + self.prediction_length, input_features].values.reshape(self.prediction_length, -1)\n",
    "        past_observed_mask = np.ones_like(past_values)  # Assume all values are observed\n",
    "        future_observed_mask = np.ones_like(future_values)  # Ensure correct shape\n",
    "        static_real_features = np.zeros((1, 1))  # Ensure shape is (1,)\n",
    "        static_categorical_features = np.zeros((1, 1))  # Added static categorical features\n",
    "\n",
    "        return {\n",
    "            \"past_values\": torch.tensor(past_values, dtype=torch.float32).unsqueeze(-1),  # Shape (61, 1)\n",
    "            \"future_values\": torch.tensor(future_values, dtype=torch.float32).unsqueeze(-1),  # Shape (24, 1)\n",
    "            \"past_time_features\": self.data.loc[idx : idx + self.input_length, input_features].values.reshape(-1, 124),  # Example adjustment\n",
    "            \"future_time_features\": torch.tensor(future_time_features, dtype=torch.float32).unsqueeze(1),  # Shape (24, 2)\n",
    "            \"past_observed_mask\": torch.tensor(past_observed_mask, dtype=torch.float32).unsqueeze(-1),  # Shape (61, 1)\n",
    "            \"future_observed_mask\": torch.tensor(future_observed_mask, dtype=torch.float32).unsqueeze(-1),  # Shape (24, 1)\n",
    "            \"static_real_features\": torch.tensor(static_real_features, dtype=torch.float32).expand(1, 1),  # Shape (1, 1)\n",
    "            \"static_categorical_features\": torch.tensor(static_categorical_features, dtype=torch.float32).expand(1, 1),  # Shape (1, 1)\n",
    "        }"
   ]
  },
  {
   "cell_type": "code",
   "execution_count": 27,
   "metadata": {},
   "outputs": [],
   "source": [
    "# Create dataset and dataloader\n",
    "dataset = TimeSeriesDataset(df, input_length, prediction_length)\n",
    "train_loader = DataLoader(dataset, batch_size=64, shuffle=True)\n"
   ]
  },
  {
   "cell_type": "code",
   "execution_count": 28,
   "metadata": {},
   "outputs": [
    {
     "ename": "ValueError",
     "evalue": "cannot reshape array of size 124 into shape (61,newaxis)",
     "output_type": "error",
     "traceback": [
      "\u001b[31m---------------------------------------------------------------------------\u001b[39m",
      "\u001b[31mValueError\u001b[39m                                Traceback (most recent call last)",
      "\u001b[36mCell\u001b[39m\u001b[36m \u001b[39m\u001b[32mIn[28]\u001b[39m\u001b[32m, line 1\u001b[39m\n\u001b[32m----> \u001b[39m\u001b[32m1\u001b[39m sample = \u001b[43mdataset\u001b[49m\u001b[43m[\u001b[49m\u001b[32;43m0\u001b[39;49m\u001b[43m]\u001b[49m  \u001b[38;5;66;03m# Fetch first sample\u001b[39;00m\n\u001b[32m      2\u001b[39m \u001b[38;5;28;01mfor\u001b[39;00m key, value \u001b[38;5;129;01min\u001b[39;00m \u001b[38;5;28msorted\u001b[39m(sample.items()):\n\u001b[32m      3\u001b[39m     \u001b[38;5;28mprint\u001b[39m(\u001b[33mf\u001b[39m\u001b[33m\"\u001b[39m\u001b[38;5;132;01m{\u001b[39;00mkey\u001b[38;5;132;01m}\u001b[39;00m\u001b[33m  \u001b[39m\u001b[38;5;132;01m{\u001b[39;00mvalue.shape\u001b[38;5;132;01m}\u001b[39;00m\u001b[33m\"\u001b[39m)\n",
      "\u001b[36mCell\u001b[39m\u001b[36m \u001b[39m\u001b[32mIn[26]\u001b[39m\u001b[32m, line 14\u001b[39m, in \u001b[36mTimeSeriesDataset.__getitem__\u001b[39m\u001b[34m(self, idx)\u001b[39m\n\u001b[32m     12\u001b[39m past_values = \u001b[38;5;28mself\u001b[39m.data.loc[idx : idx + \u001b[38;5;28mself\u001b[39m.input_length, target_feature].values\n\u001b[32m     13\u001b[39m future_values = \u001b[38;5;28mself\u001b[39m.data.loc[idx + \u001b[38;5;28mself\u001b[39m.input_length : idx + \u001b[38;5;28mself\u001b[39m.input_length + \u001b[38;5;28mself\u001b[39m.prediction_length, target_feature].values\n\u001b[32m---> \u001b[39m\u001b[32m14\u001b[39m past_time_features = \u001b[38;5;28;43mself\u001b[39;49m\u001b[43m.\u001b[49m\u001b[43mdata\u001b[49m\u001b[43m.\u001b[49m\u001b[43mloc\u001b[49m\u001b[43m[\u001b[49m\u001b[43midx\u001b[49m\u001b[43m \u001b[49m\u001b[43m:\u001b[49m\u001b[43m \u001b[49m\u001b[43midx\u001b[49m\u001b[43m \u001b[49m\u001b[43m+\u001b[49m\u001b[43m \u001b[49m\u001b[38;5;28;43mself\u001b[39;49m\u001b[43m.\u001b[49m\u001b[43minput_length\u001b[49m\u001b[43m,\u001b[49m\u001b[43m \u001b[49m\u001b[43minput_features\u001b[49m\u001b[43m]\u001b[49m\u001b[43m.\u001b[49m\u001b[43mvalues\u001b[49m\u001b[43m.\u001b[49m\u001b[43mreshape\u001b[49m\u001b[43m(\u001b[49m\u001b[38;5;28;43mself\u001b[39;49m\u001b[43m.\u001b[49m\u001b[43minput_length\u001b[49m\u001b[43m,\u001b[49m\u001b[43m \u001b[49m\u001b[43m-\u001b[49m\u001b[32;43m1\u001b[39;49m\u001b[43m)\u001b[49m\n\u001b[32m     15\u001b[39m future_time_features = \u001b[38;5;28mself\u001b[39m.data.loc[idx + \u001b[38;5;28mself\u001b[39m.input_length : idx + \u001b[38;5;28mself\u001b[39m.input_length + \u001b[38;5;28mself\u001b[39m.prediction_length, input_features].values.reshape(\u001b[38;5;28mself\u001b[39m.prediction_length, -\u001b[32m1\u001b[39m)\n\u001b[32m     16\u001b[39m past_observed_mask = np.ones_like(past_values)  \u001b[38;5;66;03m# Assume all values are observed\u001b[39;00m\n",
      "\u001b[31mValueError\u001b[39m: cannot reshape array of size 124 into shape (61,newaxis)"
     ]
    }
   ],
   "source": [
    "sample = dataset[0]  # Fetch first sample\n",
    "for key, value in sorted(sample.items()):\n",
    "    print(f\"{key}  {value.shape}\")\n"
   ]
  },
  {
   "cell_type": "code",
   "execution_count": 29,
   "metadata": {},
   "outputs": [],
   "source": [
    "# Load Autoformer model\n",
    "config = AutoformerConfig(\n",
    "    context_length=input_length,\n",
    "    prediction_length=prediction_length,\n",
    "    input_size=len(input_features),\n",
    "    target_size=1\n",
    ")\n",
    "model = AutoformerForPrediction(config)"
   ]
  },
  {
   "cell_type": "code",
   "execution_count": 30,
   "metadata": {},
   "outputs": [],
   "source": [
    "# Define training arguments\n",
    "training_args = TrainingArguments(\n",
    "    output_dir=\"./results\",\n",
    "    num_train_epochs=10,\n",
    "    per_device_train_batch_size=64,\n",
    "    logging_dir=\"./logs\",\n",
    "    logging_steps=10,\n",
    "    save_total_limit=2,\n",
    ")\n",
    "\n",
    "# Trainer setup\n",
    "trainer = Trainer(\n",
    "    model=model,\n",
    "    args=training_args,\n",
    "    train_dataset=dataset,\n",
    ")"
   ]
  },
  {
   "cell_type": "markdown",
   "metadata": {},
   "source": [
    "### Try 4"
   ]
  },
  {
   "cell_type": "code",
   "execution_count": 2,
   "metadata": {},
   "outputs": [
    {
     "data": {
      "application/vnd.jupyter.widget-view+json": {
       "model_id": "53a43479da9040e390b49c9a0031f5c6",
       "version_major": 2,
       "version_minor": 0
      },
      "text/plain": [
       "config.json:   0%|          | 0.00/1.41k [00:00<?, ?B/s]"
      ]
     },
     "metadata": {},
     "output_type": "display_data"
    },
    {
     "data": {
      "application/vnd.jupyter.widget-view+json": {
       "model_id": "f295ab3ce23545f296b5a121c98d3b82",
       "version_major": 2,
       "version_minor": 0
      },
      "text/plain": [
       "pytorch_model.bin:   0%|          | 0.00/116k [00:00<?, ?B/s]"
      ]
     },
     "metadata": {},
     "output_type": "display_data"
    },
    {
     "data": {
      "application/vnd.jupyter.widget-view+json": {
       "model_id": "89e48d3fdee44e178173999126ad1cb4",
       "version_major": 2,
       "version_minor": 0
      },
      "text/plain": [
       "model.safetensors:   0%|          | 0.00/92.7k [00:00<?, ?B/s]"
      ]
     },
     "metadata": {},
     "output_type": "display_data"
    }
   ],
   "source": [
    "from transformers import AutoformerConfig, AutoformerForPrediction\n",
    "\n",
    "config = AutoformerConfig.from_pretrained(\"kashif/autoformer-traffic-hourly\")\n",
    "model = AutoformerForPrediction.from_pretrained(\"kashif/autoformer-traffic-hourly\")\n"
   ]
  },
  {
   "cell_type": "code",
   "execution_count": 16,
   "metadata": {},
   "outputs": [],
   "source": [
    "from transformers import PretrainedConfig\n",
    "\n",
    "\n",
    "\n",
    "def create_backtest_dataloader(\n",
    "    config: PretrainedConfig,\n",
    "    freq,\n",
    "    data,\n",
    "    batch_size: int,\n",
    "    **kwargs,\n",
    "):\n",
    "    PREDICTION_INPUT_NAMES = [\n",
    "        \"past_time_features\",\n",
    "        \"past_values\",\n",
    "        \"past_observed_mask\",\n",
    "        \"future_time_features\",\n",
    "    ]\n",
    "    if config.num_static_categorical_features > 0:\n",
    "        PREDICTION_INPUT_NAMES.append(\"static_categorical_features\")\n",
    "\n",
    "    if config.num_static_real_features > 0:\n",
    "        PREDICTION_INPUT_NAMES.append(\"static_real_features\")\n",
    "\n",
    "    transformation = create_transformation(freq, config)\n",
    "    transformed_data = transformation.apply(data)\n",
    "\n",
    "    # we create a Validation Instance splitter which will sample the very last\n",
    "    # context window seen during training only for the encoder.\n",
    "    instance_sampler = create_instance_splitter(config, \"validation\")\n",
    "\n",
    "    # we apply the transformations in train mode\n",
    "    testing_instances = instance_sampler.apply(transformed_data, is_train=True)\n",
    "\n",
    "    return as_stacked_batches(\n",
    "        testing_instances,\n",
    "        batch_size=batch_size,\n",
    "        output_type=torch.tensor,\n",
    "        field_names=PREDICTION_INPUT_NAMES,\n",
    "    )\n",
    "\n",
    "def create_test_dataloader(\n",
    "    config: PretrainedConfig,\n",
    "    freq,\n",
    "    data,\n",
    "    batch_size: int,\n",
    "    **kwargs,\n",
    "):\n",
    "    PREDICTION_INPUT_NAMES = [\n",
    "        \"past_time_features\",\n",
    "        \"past_values\",\n",
    "        \"past_observed_mask\",\n",
    "        \"future_time_features\",\n",
    "    ]\n",
    "    if config.num_static_categorical_features > 0:\n",
    "        PREDICTION_INPUT_NAMES.append(\"static_categorical_features\")\n",
    "\n",
    "    if config.num_static_real_features > 0:\n",
    "        PREDICTION_INPUT_NAMES.append(\"static_real_features\")\n",
    "\n",
    "    transformation = create_transformation(freq, config)\n",
    "    transformed_data = transformation.apply(data, is_train=False)\n",
    "\n",
    "    # We create a test Instance splitter to sample the very last\n",
    "    # context window from the dataset provided.\n",
    "    instance_sampler = create_instance_splitter(config, \"test\")\n",
    "\n",
    "    # We apply the transformations in test mode\n",
    "    testing_instances = instance_sampler.apply(transformed_data, is_train=False)\n",
    "    \n",
    "    return as_stacked_batches(\n",
    "        testing_instances,\n",
    "        batch_size=batch_size,\n",
    "        output_type=torch.tensor,\n",
    "        field_names=PREDICTION_INPUT_NAMES,\n",
    "    )"
   ]
  },
  {
   "cell_type": "code",
   "execution_count": 13,
   "metadata": {},
   "outputs": [
    {
     "data": {
      "text/plain": [
       "AutoformerConfig {\n",
       "  \"activation_dropout\": 0.1,\n",
       "  \"activation_function\": \"gelu\",\n",
       "  \"architectures\": [\n",
       "    \"AutoformerForPrediction\"\n",
       "  ],\n",
       "  \"attention_dropout\": 0.1,\n",
       "  \"autocorrelation_factor\": 3,\n",
       "  \"cardinality\": [\n",
       "    0\n",
       "  ],\n",
       "  \"context_length\": 48,\n",
       "  \"d_model\": 16,\n",
       "  \"decoder_attention_heads\": 2,\n",
       "  \"decoder_ffn_dim\": 32,\n",
       "  \"decoder_layerdrop\": 0.1,\n",
       "  \"decoder_layers\": 2,\n",
       "  \"distribution_output\": \"student_t\",\n",
       "  \"dropout\": 0.1,\n",
       "  \"embedding_dimension\": [\n",
       "    0\n",
       "  ],\n",
       "  \"encoder_attention_heads\": 2,\n",
       "  \"encoder_ffn_dim\": 32,\n",
       "  \"encoder_layerdrop\": 0.1,\n",
       "  \"encoder_layers\": 2,\n",
       "  \"feature_size\": 47,\n",
       "  \"init_std\": 0.02,\n",
       "  \"input_size\": 1,\n",
       "  \"is_encoder_decoder\": true,\n",
       "  \"label_length\": 10,\n",
       "  \"lags_sequence\": [\n",
       "    1,\n",
       "    2,\n",
       "    3,\n",
       "    4,\n",
       "    5,\n",
       "    6,\n",
       "    7,\n",
       "    23,\n",
       "    24,\n",
       "    25,\n",
       "    47,\n",
       "    48,\n",
       "    49,\n",
       "    71,\n",
       "    72,\n",
       "    73,\n",
       "    95,\n",
       "    96,\n",
       "    97,\n",
       "    119,\n",
       "    120,\n",
       "    121,\n",
       "    143,\n",
       "    144,\n",
       "    145,\n",
       "    167,\n",
       "    168,\n",
       "    169,\n",
       "    335,\n",
       "    336,\n",
       "    337,\n",
       "    503,\n",
       "    504,\n",
       "    505,\n",
       "    671,\n",
       "    672,\n",
       "    673,\n",
       "    719,\n",
       "    720,\n",
       "    721\n",
       "  ],\n",
       "  \"loss\": \"nll\",\n",
       "  \"model_type\": \"autoformer\",\n",
       "  \"moving_average\": 25,\n",
       "  \"num_dynamic_real_features\": 0,\n",
       "  \"num_parallel_samples\": 100,\n",
       "  \"num_static_categorical_features\": 0,\n",
       "  \"num_static_real_features\": 0,\n",
       "  \"num_time_features\": 5,\n",
       "  \"prediction_length\": 24,\n",
       "  \"scaling\": \"mean\",\n",
       "  \"torch_dtype\": \"float32\",\n",
       "  \"transformers_version\": \"4.49.0\",\n",
       "  \"use_cache\": true\n",
       "}"
      ]
     },
     "execution_count": 13,
     "metadata": {},
     "output_type": "execute_result"
    }
   ],
   "source": [
    "config"
   ]
  },
  {
   "cell_type": "code",
   "execution_count": 14,
   "metadata": {},
   "outputs": [
    {
     "ename": "NameError",
     "evalue": "name 'create_backtest_dataloader' is not defined",
     "output_type": "error",
     "traceback": [
      "\u001b[31m---------------------------------------------------------------------------\u001b[39m",
      "\u001b[31mNameError\u001b[39m                                 Traceback (most recent call last)",
      "\u001b[36mCell\u001b[39m\u001b[36m \u001b[39m\u001b[32mIn[14]\u001b[39m\u001b[32m, line 1\u001b[39m\n\u001b[32m----> \u001b[39m\u001b[32m1\u001b[39m test_dataloader = \u001b[43mcreate_backtest_dataloader\u001b[49m(\n\u001b[32m      2\u001b[39m     config=config,\n\u001b[32m      3\u001b[39m     freq=freq,\n\u001b[32m      4\u001b[39m     data=test_dataset,\n\u001b[32m      5\u001b[39m     batch_size=\u001b[32m64\u001b[39m,\n\u001b[32m      6\u001b[39m )\n",
      "\u001b[31mNameError\u001b[39m: name 'create_backtest_dataloader' is not defined"
     ]
    }
   ],
   "source": [
    "test_dataloader = create_backtest_dataloader(\n",
    "    config=config,\n",
    "    freq=freq,\n",
    "    data=test_dataset,\n",
    "    batch_size=64,\n",
    ")"
   ]
  },
  {
   "cell_type": "markdown",
   "metadata": {},
   "source": [
    "### Try 5"
   ]
  },
  {
   "cell_type": "code",
   "execution_count": 46,
   "metadata": {},
   "outputs": [],
   "source": [
    "from transformers import AutoformerConfig, AutoformerModel\n",
    "from torch.utils.data import DataLoader\n"
   ]
  },
  {
   "cell_type": "code",
   "execution_count": 47,
   "metadata": {},
   "outputs": [],
   "source": [
    "modelconfig = AutoformerConfig(prediction_length=24, input_size=2)\n",
    "model = AutoformerModel(config)"
   ]
  },
  {
   "cell_type": "code",
   "execution_count": 23,
   "metadata": {},
   "outputs": [],
   "source": [
    "df = pd.read_csv(\"preprocessed_dataset.csv\")"
   ]
  },
  {
   "cell_type": "code",
   "execution_count": 51,
   "metadata": {},
   "outputs": [
    {
     "data": {
      "text/plain": [
       "Index(['requests', 'memory', 'cpu', 'timestamp', 'datetime', 'time_idx'], dtype='object')"
      ]
     },
     "execution_count": 51,
     "metadata": {},
     "output_type": "execute_result"
    }
   ],
   "source": [
    "df.columns"
   ]
  },
  {
   "cell_type": "markdown",
   "metadata": {},
   "source": [
    "### Now find out the model.forward() parameters"
   ]
  },
  {
   "cell_type": "code",
   "execution_count": 52,
   "metadata": {},
   "outputs": [
    {
     "data": {
      "text/html": [
       "<div>\n",
       "<style scoped>\n",
       "    .dataframe tbody tr th:only-of-type {\n",
       "        vertical-align: middle;\n",
       "    }\n",
       "\n",
       "    .dataframe tbody tr th {\n",
       "        vertical-align: top;\n",
       "    }\n",
       "\n",
       "    .dataframe thead th {\n",
       "        text-align: right;\n",
       "    }\n",
       "</style>\n",
       "<table border=\"1\" class=\"dataframe\">\n",
       "  <thead>\n",
       "    <tr style=\"text-align: right;\">\n",
       "      <th></th>\n",
       "      <th>requests</th>\n",
       "      <th>memory</th>\n",
       "      <th>cpu</th>\n",
       "      <th>timestamp</th>\n",
       "      <th>datetime</th>\n",
       "      <th>time_idx</th>\n",
       "    </tr>\n",
       "  </thead>\n",
       "  <tbody>\n",
       "    <tr>\n",
       "      <th>1435</th>\n",
       "      <td>0.400</td>\n",
       "      <td>0.629630</td>\n",
       "      <td>0.2</td>\n",
       "      <td>2023-10-01 23:55:00</td>\n",
       "      <td>2023-10-01 23:55:00</td>\n",
       "      <td>1696204500</td>\n",
       "    </tr>\n",
       "    <tr>\n",
       "      <th>1436</th>\n",
       "      <td>0.300</td>\n",
       "      <td>0.648148</td>\n",
       "      <td>0.2</td>\n",
       "      <td>2023-10-01 23:56:00</td>\n",
       "      <td>2023-10-01 23:56:00</td>\n",
       "      <td>1696204560</td>\n",
       "    </tr>\n",
       "    <tr>\n",
       "      <th>1437</th>\n",
       "      <td>0.150</td>\n",
       "      <td>0.648148</td>\n",
       "      <td>0.2</td>\n",
       "      <td>2023-10-01 23:57:00</td>\n",
       "      <td>2023-10-01 23:57:00</td>\n",
       "      <td>1696204620</td>\n",
       "    </tr>\n",
       "    <tr>\n",
       "      <th>1438</th>\n",
       "      <td>0.325</td>\n",
       "      <td>0.629630</td>\n",
       "      <td>0.2</td>\n",
       "      <td>2023-10-01 23:58:00</td>\n",
       "      <td>2023-10-01 23:58:00</td>\n",
       "      <td>1696204680</td>\n",
       "    </tr>\n",
       "    <tr>\n",
       "      <th>1439</th>\n",
       "      <td>0.050</td>\n",
       "      <td>0.629630</td>\n",
       "      <td>0.2</td>\n",
       "      <td>2023-10-01 23:59:00</td>\n",
       "      <td>2023-10-01 23:59:00</td>\n",
       "      <td>1696204740</td>\n",
       "    </tr>\n",
       "  </tbody>\n",
       "</table>\n",
       "</div>"
      ],
      "text/plain": [
       "      requests    memory  cpu            timestamp            datetime  \\\n",
       "1435     0.400  0.629630  0.2  2023-10-01 23:55:00 2023-10-01 23:55:00   \n",
       "1436     0.300  0.648148  0.2  2023-10-01 23:56:00 2023-10-01 23:56:00   \n",
       "1437     0.150  0.648148  0.2  2023-10-01 23:57:00 2023-10-01 23:57:00   \n",
       "1438     0.325  0.629630  0.2  2023-10-01 23:58:00 2023-10-01 23:58:00   \n",
       "1439     0.050  0.629630  0.2  2023-10-01 23:59:00 2023-10-01 23:59:00   \n",
       "\n",
       "        time_idx  \n",
       "1435  1696204500  \n",
       "1436  1696204560  \n",
       "1437  1696204620  \n",
       "1438  1696204680  \n",
       "1439  1696204740  "
      ]
     },
     "execution_count": 52,
     "metadata": {},
     "output_type": "execute_result"
    }
   ],
   "source": [
    "df.tail()"
   ]
  },
  {
   "cell_type": "code",
   "execution_count": 59,
   "metadata": {},
   "outputs": [
    {
     "data": {
      "text/plain": [
       "pandas.core.series.Series"
      ]
     },
     "execution_count": 59,
     "metadata": {},
     "output_type": "execute_result"
    }
   ],
   "source": [
    "type(df[\"requests\"])"
   ]
  },
  {
   "cell_type": "code",
   "execution_count": 24,
   "metadata": {},
   "outputs": [],
   "source": [
    "df['datetime'] = pd.to_datetime(df['timestamp'])\n",
    "df['requests'] = df['requests'].fillna(0)\n",
    "df['time_idx'] = df['datetime'].astype('int64') // 10**9 "
   ]
  },
  {
   "cell_type": "code",
   "execution_count": 27,
   "metadata": {},
   "outputs": [],
   "source": [
    "class TimeSeriesDataset(Dataset):\n",
    "    def __init__(self, df, input_length, prediction_length):\n",
    "        self.data = df\n",
    "        self.input_length = input_length\n",
    "        self.prediction_length = prediction_length\n",
    "        \n",
    "    def __len__(self):\n",
    "        return len(self.data) - self.input_length - self.prediction_length + 1\n",
    "    \n",
    "    def __getitem__(self, idx):\n",
    "        past_values = self.data.loc[idx : idx + self.input_length, target_feature].values\n",
    "        future_values = self.data.loc[idx + self.input_length : idx + self.input_length + self.prediction_length, target_feature].values\n",
    "        past_time_features = self.data.loc[idx : idx + self.input_length, input_features].values.reshape(self.input_length, -1)\n",
    "        future_time_features = self.data.loc[idx + self.input_length : idx + self.input_length + self.prediction_length, input_features].values.reshape(self.prediction_length, -1)\n",
    "        past_observed_mask = np.ones_like(past_values)  # Assume all values are observed\n",
    "        future_observed_mask = np.ones_like(future_values)  # Ensure correct shape\n",
    "        static_real_features = np.zeros((1, 1))  # Ensure shape is (1,)\n",
    "        static_categorical_features = np.zeros((1, 1))  # Added static categorical features\n",
    "\n",
    "        return {\n",
    "            \"past_values\": torch.tensor(past_values, dtype=torch.float32).unsqueeze(-1),  # Shape (61, 1)\n",
    "            \"future_values\": torch.tensor(future_values, dtype=torch.float32).unsqueeze(-1),  # Shape (24, 1)\n",
    "            \"past_time_features\": self.data.loc[idx : idx + self.input_length, input_features].values.reshape(-1, 124),  # Example adjustment\n",
    "            \"future_time_features\": torch.tensor(future_time_features, dtype=torch.float32).unsqueeze(1),  # Shape (24, 2)\n",
    "            \"past_observed_mask\": torch.tensor(past_observed_mask, dtype=torch.float32).unsqueeze(-1),  # Shape (61, 1)\n",
    "            \"future_observed_mask\": torch.tensor(future_observed_mask, dtype=torch.float32).unsqueeze(-1),  # Shape (24, 1)\n",
    "            \"static_real_features\": torch.tensor(static_real_features, dtype=torch.float32).expand(1, 1),  # Shape (1, 1)\n",
    "            \"static_categorical_features\": torch.tensor(static_categorical_features, dtype=torch.float32).expand(1, 1),  # Shape (1, 1)\n",
    "        }"
   ]
  },
  {
   "cell_type": "code",
   "execution_count": 48,
   "metadata": {},
   "outputs": [],
   "source": [
    "dataset = TimeSeriesDataset(df, input_length, prediction_length)"
   ]
  },
  {
   "cell_type": "markdown",
   "metadata": {},
   "source": [
    "### DART MODEL"
   ]
  },
  {
   "cell_type": "code",
   "execution_count": 1,
   "metadata": {},
   "outputs": [
    {
     "name": "stderr",
     "output_type": "stream",
     "text": [
      "/Users/surajojha/projects/time_series/tenv/lib/python3.12/site-packages/tqdm/auto.py:21: TqdmWarning: IProgress not found. Please update jupyter and ipywidgets. See https://ipywidgets.readthedocs.io/en/stable/user_install.html\n",
      "  from .autonotebook import tqdm as notebook_tqdm\n"
     ]
    }
   ],
   "source": [
    "import pandas as pd\n",
    "from darts import TimeSeries\n",
    "from darts.models import NBEATSModel  # You can try other models like TFTModel, TransformerModel\n",
    "from darts.dataprocessing.transformers import Scaler\n",
    "from sklearn.preprocessing import MinMaxScaler\n",
    "import torch\n"
   ]
  },
  {
   "cell_type": "code",
   "execution_count": 2,
   "metadata": {},
   "outputs": [],
   "source": [
    "df = pd.read_csv(\"preprocessed_dataset.csv\", parse_dates=[\"timestamp\"])\n",
    "df.set_index(\"timestamp\", inplace=True)"
   ]
  },
  {
   "cell_type": "markdown",
   "metadata": {},
   "source": [
    " doing the forward fill"
   ]
  },
  {
   "cell_type": "code",
   "execution_count": 3,
   "metadata": {},
   "outputs": [
    {
     "name": "stderr",
     "output_type": "stream",
     "text": [
      "/var/folders/zh/qb2hlbtn0hl1_57lzc2757k40000gn/T/ipykernel_24259/3304020842.py:1: FutureWarning: DataFrame.fillna with 'method' is deprecated and will raise in a future version. Use obj.ffill() or obj.bfill() instead.\n",
      "  df = df.fillna(method='ffill', axis=1).fillna(0)\n"
     ]
    }
   ],
   "source": [
    "df = df.fillna(method='ffill', axis=1).fillna(0)"
   ]
  },
  {
   "cell_type": "code",
   "execution_count": 4,
   "metadata": {},
   "outputs": [],
   "source": [
    "# Normalize the data (optional but recommended)\n",
    "scaler_target = Scaler(MinMaxScaler())\n",
    "scaler_covariates = Scaler(MinMaxScaler())\n",
    "\n",
    "# Convert to Darts TimeSeries\n",
    "series_target = TimeSeries.from_dataframe(df, value_cols=[\"requests\"])\n",
    "series_covariates = TimeSeries.from_dataframe(df, value_cols=[\"memory\", \"cpu\"])\n",
    "\n",
    "# Normalize\n",
    "series_target = scaler_target.fit_transform(series_target)\n",
    "series_covariates = scaler_covariates.fit_transform(series_covariates)\n"
   ]
  },
  {
   "cell_type": "code",
   "execution_count": 5,
   "metadata": {},
   "outputs": [],
   "source": [
    "# Define train-test split\n",
    "train_size = 0.8  # 80% training, 20% testing\n",
    "train_target, test_target = series_target.split_after(train_size)\n",
    "train_covariates, test_covariates = series_covariates.split_after(train_size)\n"
   ]
  },
  {
   "cell_type": "code",
   "execution_count": 6,
   "metadata": {},
   "outputs": [
    {
     "name": "stderr",
     "output_type": "stream",
     "text": [
      "GPU available: True (mps), used: False\n",
      "TPU available: False, using: 0 TPU cores\n",
      "HPU available: False, using: 0 HPUs\n",
      "/Users/surajojha/projects/time_series/tenv/lib/python3.12/site-packages/pytorch_lightning/trainer/setup.py:177: GPU available but not used. You can set it by doing `Trainer(accelerator='gpu')`.\n",
      "\n",
      "  | Name            | Type             | Params | Mode \n",
      "-------------------------------------------------------------\n",
      "0 | criterion       | MSELoss          | 0      | train\n",
      "1 | train_criterion | MSELoss          | 0      | train\n",
      "2 | val_criterion   | MSELoss          | 0      | train\n",
      "3 | train_metrics   | MetricCollection | 0      | train\n",
      "4 | val_metrics     | MetricCollection | 0      | train\n",
      "5 | stacks          | ModuleList       | 6.6 M  | train\n",
      "-------------------------------------------------------------\n",
      "6.6 M     Trainable params\n",
      "1.7 K     Non-trainable params\n",
      "6.6 M     Total params\n",
      "26.314    Total estimated model params size (MB)\n",
      "396       Modules in train mode\n",
      "0         Modules in eval mode\n"
     ]
    },
    {
     "name": "stdout",
     "output_type": "stream",
     "text": [
      "Epoch 9: 100%|██████████| 35/35 [00:01<00:00, 20.53it/s, train_loss=0.0186]"
     ]
    },
    {
     "name": "stderr",
     "output_type": "stream",
     "text": [
      "`Trainer.fit` stopped: `max_epochs=10` reached.\n"
     ]
    },
    {
     "name": "stdout",
     "output_type": "stream",
     "text": [
      "Epoch 9: 100%|██████████| 35/35 [00:01<00:00, 20.52it/s, train_loss=0.0186]\n"
     ]
    },
    {
     "data": {
      "text/plain": [
       "NBEATSModel(output_chunk_shift=0, generic_architecture=True, num_stacks=30, num_blocks=1, num_layers=4, layer_widths=256, expansion_coefficient_dim=5, trend_polynomial_degree=2, dropout=0.0, activation=ReLU, input_chunk_length=24, output_chunk_length=12, random_state=42, pl_trainer_kwargs={'accelerator': 'cpu'})"
      ]
     },
     "execution_count": 6,
     "metadata": {},
     "output_type": "execute_result"
    }
   ],
   "source": [
    "# Initialize the model (you can also try TransformerModel, TFTModel, RNNModel, etc.)\n",
    "model = NBEATSModel(\n",
    "    input_chunk_length=24,   # Number of past time steps to use\n",
    "    output_chunk_length=12,  # Number of future steps to predict\n",
    "    random_state=42,\n",
    "    pl_trainer_kwargs={\"accelerator\": \"gpu\" if torch.cuda.is_available() else \"cpu\"}\n",
    ")\n",
    "\n",
    "# Train the model\n",
    "model.fit(series=train_target, past_covariates=train_covariates, epochs=10, verbose=True)\n"
   ]
  },
  {
   "cell_type": "code",
   "execution_count": 7,
   "metadata": {},
   "outputs": [
    {
     "name": "stderr",
     "output_type": "stream",
     "text": [
      "`predict()` was called with `n > output_chunk_length`: using auto-regression to forecast the values after `output_chunk_length` points. The model will access `(n - output_chunk_length)` future values of your `past_covariates` (relative to the first predicted time step). To hide this warning, set `show_warnings=False`.\n",
      "GPU available: True (mps), used: False\n",
      "TPU available: False, using: 0 TPU cores\n",
      "HPU available: False, using: 0 HPUs\n"
     ]
    },
    {
     "name": "stdout",
     "output_type": "stream",
     "text": [
      "Predicting DataLoader 0: 100%|██████████| 1/1 [00:00<00:00, 14.87it/s]\n"
     ]
    }
   ],
   "source": [
    "test_covariates_extended = series_covariates[-(len(test_target) + model.input_chunk_length):]\n",
    "pred_series = model.predict(n=len(test_target), past_covariates=test_covariates_extended)"
   ]
  },
  {
   "cell_type": "code",
   "execution_count": 8,
   "metadata": {},
   "outputs": [
    {
     "data": {
      "image/png": "[encoded data removed]",
      "text/plain": [
       "<Figure size 800x300 with 1 Axes>"
      ]
     },
     "metadata": {},
     "output_type": "display_data"
    }
   ],
   "source": [
    "import matplotlib.pyplot as plt\n",
    "\n",
    "plt.figure(figsize=(8, 3))\n",
    "\n",
    "test_target_pd = test_target.to_series()\n",
    "pred_series_pd = pred_series.to_series()\n",
    "\n",
    "plt.plot(test_target_pd, label=\"Actual Requests\", linewidth=2, color=\"black\")\n",
    "\n",
    "# Plot predicted data with better visibility\n",
    "plt.plot(pred_series_pd, label=\"Predicted Requests\", linestyle=\"dashed\", linewidth=2.5, color=\"blue\", alpha=0.8)\n",
    "\n",
    "plt.title(\"Actual vs Predicted Requests\")\n",
    "plt.xlabel(\"Time\")\n",
    "plt.ylabel(\"Requests\")\n",
    "plt.legend()\n",
    "plt.grid(True)\n",
    "plt.show()\n"
   ]
  },
  {
   "cell_type": "code",
   "execution_count": 9,
   "metadata": {},
   "outputs": [],
   "source": [
    "from darts.metrics import mse, rmse, mae, mape\n"
   ]
  },
  {
   "cell_type": "code",
   "execution_count": 10,
   "metadata": {},
   "outputs": [
    {
     "name": "stdout",
     "output_type": "stream",
     "text": [
      "MSE: 0.0443\n",
      "RMSE: 0.2105\n",
      "MAE: 0.1658\n"
     ]
    }
   ],
   "source": [
    "mse_score = mse(test_target, pred_series)\n",
    "rmse_score = rmse(test_target, pred_series)\n",
    "mae_score = mae(test_target, pred_series)\n",
    "\n",
    "print(f\"MSE: {mse_score:.4f}\")\n",
    "print(f\"RMSE: {rmse_score:.4f}\")\n",
    "print(f\"MAE: {mae_score:.4f}\")\n"
   ]
  },
  {
   "cell_type": "code",
   "execution_count": null,
   "metadata": {},
   "outputs": [],
   "source": []
  }
 ],
 "metadata": {
  "kernelspec": {
   "display_name": "newenv",
   "language": "python",
   "name": "python3"
  },
  "language_info": {
   "codemirror_mode": {
    "name": "ipython",
    "version": 3
   },
   "file_extension": ".py",
   "mimetype": "text/x-python",
   "name": "python",
   "nbconvert_exporter": "python",
   "pygments_lexer": "ipython3",
   "version": "3.12.2"
  }
 },
 "nbformat": 4,
 "nbformat_minor": 2
}
