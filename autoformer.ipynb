{
 "cells": [
  {
   "cell_type": "markdown",
   "metadata": {},
   "source": [
    "For demo, see the throw.ipynb"
   ]
  },
  {
   "cell_type": "markdown",
   "metadata": {},
   "source": [
    "Autoformer"
   ]
  },
  {
   "cell_type": "code",
   "execution_count": 1,
   "metadata": {},
   "outputs": [],
   "source": [
    "import pandas as pd\n",
    "import numpy as np\n",
    "import torch\n",
    "from torch.utils.data import Dataset, DataLoader"
   ]
  },
  {
   "cell_type": "code",
   "execution_count": 2,
   "metadata": {},
   "outputs": [],
   "source": [
    "class TimeSeriesWindowDataset(Dataset):\n",
    "    def __init__(self, df, context_length, prediction_length, lags_sequence):\n",
    "        self.context_length = context_length\n",
    "        self.prediction_length = prediction_length\n",
    "        self.lags_sequence = lags_sequence\n",
    "        self.max_lag = max(lags_sequence)\n",
    "        self.required_past_length = context_length + self.max_lag\n",
    "\n",
    "        self.values = df['requests'].values\n",
    "        self.features = df[['memory', 'cpu']].values\n",
    "\n",
    "        self.length = len(df) - self.required_past_length - prediction_length + 1\n",
    "\n",
    "        self.static_real = np.array([df['cpu'].mean(), df['memory'].mean()])\n",
    "        self.static_cat = np.array([0])\n",
    "\n",
    "    def __len__(self):\n",
    "        return self.length\n",
    "\n",
    "    def __getitem__(self, idx):\n",
    "        # extract values\n",
    "        past_values = self.values[idx : idx + self.required_past_length]\n",
    "        future_values = self.values[idx + self.required_past_length : idx + self.required_past_length + self.prediction_length]\n",
    "        \n",
    "        # compute mean and std for normalization (per sample)\n",
    "        mean = past_values.mean()\n",
    "        std = past_values.std()\n",
    "        std = std if std > 0 else 1.0\n",
    "\n",
    "        # normalize both past and future values\n",
    "        norm_past_values = (past_values - mean) / std\n",
    "        norm_future_values = (future_values - mean) / std\n",
    "\n",
    "        past_time_features = self.features[idx : idx + self.required_past_length]\n",
    "        future_time_features = self.features[idx + self.required_past_length : idx + self.required_past_length + self.prediction_length]\n",
    "\n",
    "        past_observed_mask = ~np.isnan(past_values)\n",
    "        future_observed_mask = ~np.isnan(future_values)\n",
    "\n",
    "        return {\n",
    "            'past_values': torch.tensor(norm_past_values, dtype=torch.float),\n",
    "            'past_time_features': torch.tensor(past_time_features, dtype=torch.float),\n",
    "            'past_observed_mask': torch.tensor(past_observed_mask, dtype=torch.float),\n",
    "            'future_values': torch.tensor(norm_future_values, dtype=torch.float),\n",
    "            'future_time_features': torch.tensor(future_time_features, dtype=torch.float),\n",
    "            'future_observed_mask': torch.tensor(future_observed_mask, dtype=torch.float),\n",
    "            'static_real_features': torch.tensor(self.static_real, dtype=torch.float),\n",
    "            'static_categorical_features': torch.tensor(self.static_cat, dtype=torch.long),\n",
    "        }\n"
   ]
  },
  {
   "cell_type": "code",
   "execution_count": 3,
   "metadata": {},
   "outputs": [],
   "source": [
    "df = pd.read_csv(\"preprocessed_dataset.csv\", parse_dates=[\"timestamp\"])\n",
    "df.set_index(\"timestamp\", inplace=True)"
   ]
  },
  {
   "cell_type": "code",
   "execution_count": 4,
   "metadata": {},
   "outputs": [],
   "source": [
    "lags_seq = [1, 2, 3, 4, 5, 6, 7, 8, 9, 10]  # can include 0 if needed\n",
    "context_len = 11  # 21 - max(lags_seq)\n",
    "prediction_len = 1 # prediction Length\n"
   ]
  },
  {
   "cell_type": "code",
   "execution_count": 5,
   "metadata": {},
   "outputs": [],
   "source": [
    "dataset = TimeSeriesWindowDataset(df, context_length=context_len, prediction_length=prediction_len, lags_sequence=lags_seq)"
   ]
  },
  {
   "cell_type": "code",
   "execution_count": 6,
   "metadata": {},
   "outputs": [
    {
     "name": "stdout",
     "output_type": "stream",
     "text": [
      "past values: tensor([[ 0.6154,  1.0300,  1.5137,  ..., -2.0337, -0.8819, -0.4212],\n",
      "        [-0.0028,  0.8188,  0.1146,  ...,  1.2297, -0.8831, -0.9418],\n",
      "        [-0.6047, -1.2731, -0.4710,  ...,  0.3310,  0.3310, -0.6047],\n",
      "        ...,\n",
      "        [-1.3137, -0.7793, -1.0465,  ...,  0.0223, -1.8480, -1.5808],\n",
      "        [-1.1943, -0.1133,  1.1840,  ..., -0.7619, -0.3295,  0.5354],\n",
      "        [ 1.1923, -1.1299, -0.3261,  ..., -1.2192, -1.4276, -1.5765]])\n",
      "past_time_features:  torch.Size([64, 21, 2])\n",
      "past_observed_mask:  torch.Size([64, 21])\n",
      "future_values:  torch.Size([64, 1])\n",
      "future_time_series:  torch.Size([64, 1, 2])\n",
      "future_observed_mask:  torch.Size([64, 1])\n"
     ]
    }
   ],
   "source": [
    "loader = DataLoader(dataset, batch_size=64, shuffle=True)\n",
    "for batch in loader:\n",
    "    print(\"past values:\", batch['past_values'], end=\"\\n\")  \n",
    "    print(\"past_time_features: \",batch['past_time_features'].shape, end=\"\\n\") \n",
    "    print(\"past_observed_mask: \",batch['past_observed_mask'].shape, end=\"\\n\")\n",
    "    print(\"future_values: \",batch['future_values'].shape, end=\"\\n\") \n",
    "    print(\"future_time_series: \",batch['future_time_features'].shape, end=\"\\n\") \n",
    "    print(\"future_observed_mask: \",batch['future_observed_mask'].shape, end=\"\\n\") \n",
    "    break\n"
   ]
  },
  {
   "cell_type": "markdown",
   "metadata": {},
   "source": [
    "MODEL CONFIGURATION"
   ]
  },
  {
   "cell_type": "code",
   "execution_count": 7,
   "metadata": {},
   "outputs": [
    {
     "name": "stderr",
     "output_type": "stream",
     "text": [
      "/home/suraj/projects/time_series/myenv/lib/python3.12/site-packages/tqdm/auto.py:21: TqdmWarning: IProgress not found. Please update jupyter and ipywidgets. See https://ipywidgets.readthedocs.io/en/stable/user_install.html\n",
      "  from .autonotebook import tqdm as notebook_tqdm\n"
     ]
    }
   ],
   "source": [
    "from transformers import AutoformerForPrediction, AutoformerConfig\n",
    "config = AutoformerConfig(\n",
    "    context_length=context_len,\n",
    "    prediction_length=prediction_len,\n",
    "    lags_sequence=lags_seq,\n",
    "    input_size=1,\n",
    "    num_time_features=2,\n",
    "    static_categorical_cardinalities=[1],\n",
    "    static_real_features=2,\n",
    ")\n",
    "\n",
    "model = AutoformerForPrediction(config)"
   ]
  },
  {
   "cell_type": "code",
   "execution_count": 8,
   "metadata": {},
   "outputs": [],
   "source": [
    "device = torch.device(\"cuda\" if torch.cuda.is_available() else \"cpu\")\n",
    "model = model.to(device)"
   ]
  },
  {
   "cell_type": "code",
   "execution_count": 9,
   "metadata": {},
   "outputs": [],
   "source": [
    "optimizer = torch.optim.Adam(model.parameters(), lr=1e-3)\n",
    "num_epochs = 50  #"
   ]
  },
  {
   "cell_type": "markdown",
   "metadata": {},
   "source": [
    "Training Part"
   ]
  },
  {
   "cell_type": "code",
   "execution_count": 10,
   "metadata": {},
   "outputs": [
    {
     "name": "stdout",
     "output_type": "stream",
     "text": [
      "Epoch 1/50, Loss: 183.2319\n",
      "Epoch 2/50, Loss: 178.5313\n",
      "Epoch 3/50, Loss: 177.9230\n",
      "Epoch 4/50, Loss: 177.4951\n",
      "Epoch 5/50, Loss: 176.8855\n",
      "Epoch 6/50, Loss: 176.5266\n",
      "Epoch 7/50, Loss: 175.9318\n",
      "Epoch 8/50, Loss: 176.2991\n",
      "Epoch 9/50, Loss: 175.4235\n",
      "Epoch 10/50, Loss: 176.4483\n",
      "Epoch 11/50, Loss: 174.5904\n",
      "Epoch 12/50, Loss: 174.5143\n",
      "Epoch 13/50, Loss: 174.0981\n",
      "Epoch 14/50, Loss: 173.7322\n",
      "Epoch 15/50, Loss: 173.2556\n",
      "Epoch 16/50, Loss: 173.0162\n",
      "Epoch 17/50, Loss: 172.7002\n",
      "Epoch 18/50, Loss: 172.5393\n",
      "Epoch 19/50, Loss: 172.3571\n",
      "Epoch 20/50, Loss: 171.6283\n",
      "Epoch 21/50, Loss: 171.9142\n",
      "Epoch 22/50, Loss: 170.9977\n",
      "Epoch 23/50, Loss: 171.1948\n",
      "Epoch 24/50, Loss: 171.6167\n",
      "Epoch 25/50, Loss: 170.9203\n",
      "Epoch 26/50, Loss: 170.1724\n",
      "Epoch 27/50, Loss: 170.5570\n",
      "Epoch 28/50, Loss: 170.0403\n",
      "Epoch 29/50, Loss: 169.7915\n",
      "Epoch 30/50, Loss: 169.3565\n",
      "Epoch 31/50, Loss: 169.6290\n",
      "Epoch 32/50, Loss: 169.5378\n",
      "Epoch 33/50, Loss: 169.2801\n",
      "Epoch 34/50, Loss: 168.8239\n",
      "Epoch 35/50, Loss: 169.1423\n",
      "Epoch 36/50, Loss: 168.5699\n",
      "Epoch 37/50, Loss: 168.0236\n",
      "Epoch 38/50, Loss: 168.5379\n",
      "Epoch 39/50, Loss: 168.1385\n",
      "Epoch 40/50, Loss: 168.5883\n",
      "Epoch 41/50, Loss: 167.6225\n",
      "Epoch 42/50, Loss: 167.6241\n",
      "Epoch 43/50, Loss: 168.8247\n",
      "Epoch 44/50, Loss: 167.9656\n",
      "Epoch 45/50, Loss: 166.5237\n",
      "Epoch 46/50, Loss: 165.8109\n",
      "Epoch 47/50, Loss: 166.1794\n",
      "Epoch 48/50, Loss: 165.6502\n",
      "Epoch 49/50, Loss: 166.5204\n",
      "Epoch 50/50, Loss: 166.8778\n"
     ]
    }
   ],
   "source": [
    "model.train()\n",
    "for epoch in range(num_epochs):\n",
    "    total_loss = 0\n",
    "    for batch in loader:\n",
    "        # Move batch tensors to the same device as model\n",
    "        batch = {k: v.to(device) for k, v in batch.items()}\n",
    "\n",
    "        output = model(\n",
    "            past_values=batch['past_values'],\n",
    "            past_time_features=batch['past_time_features'],\n",
    "            past_observed_mask=batch['past_observed_mask'],\n",
    "            future_values=batch['future_values'],\n",
    "            future_time_features=batch['future_time_features'],\n",
    "            # static_real_features=batch['static_real_features'],\n",
    "            # static_categorical_features=batch['static_categorical_features']\n",
    "        )\n",
    "\n",
    "        loss = output.loss\n",
    "        loss.backward()\n",
    "        optimizer.step()\n",
    "        optimizer.zero_grad()\n",
    "\n",
    "        total_loss += loss.item()\n",
    "\n",
    "\n",
    "    print(f\"Epoch {epoch+1}/{num_epochs}, Loss: {total_loss:.4f}\")"
   ]
  },
  {
   "cell_type": "markdown",
   "metadata": {},
   "source": [
    "Evaluation Part"
   ]
  },
  {
   "cell_type": "code",
   "execution_count": 12,
   "metadata": {},
   "outputs": [],
   "source": [
    "from sklearn.metrics import mean_squared_error, mean_absolute_error, r2_score\n",
    "import numpy as np\n",
    "\n",
    "\n",
    "def evaluate_forecast(y_true, y_pred):\n",
    "\n",
    "    mse = mean_squared_error(y_true, y_pred)\n",
    "    rmse = np.sqrt(mse)\n",
    "    mae = mean_absolute_error(y_true, y_pred)\n",
    "    r2 = r2_score(y_true, y_pred)\n",
    "\n",
    "    return {\n",
    "        'MSE': round(mse, 4),\n",
    "        'RMSE': round(rmse, 4),\n",
    "        'MAE': round(mae, 4),\n",
    "        'R2': round(r2, 4)\n",
    "    }"
   ]
  },
  {
   "cell_type": "code",
   "execution_count": 13,
   "metadata": {},
   "outputs": [
    {
     "name": "stdout",
     "output_type": "stream",
     "text": [
      "{'MSE': 14.1841, 'RMSE': 3.7662, 'MAE': 1.7164, 'R2': -0.1207}\n"
     ]
    }
   ],
   "source": [
    "model.eval()\n",
    "\n",
    "# Grab a batch\n",
    "for batch in loader:\n",
    "    batch = {k: v.to(device) for k, v in batch.items()}\n",
    "    break\n",
    "\n",
    "# Generate predictions\n",
    "with torch.no_grad():\n",
    "    outputs = model.generate(\n",
    "        past_values=batch['past_values'],\n",
    "        past_time_features=batch['past_time_features'],\n",
    "        past_observed_mask=batch['past_observed_mask'],\n",
    "        future_time_features=batch['future_time_features'],\n",
    "        # static_real_features=batch['static_real_features'],  # if you're using these\n",
    "        # static_categorical_features=batch['static_categorical_features'],\n",
    "    )\n",
    "\n",
    "normalized_forecast = outputs.sequences  \n",
    "\n",
    "loc = batch['past_values'].mean(dim=1, keepdim=True).unsqueeze(-1)   # [B, 1, 1]\n",
    "scale = batch['past_values'].std(dim=1, keepdim=True).unsqueeze(-1)  # [B, 1, 1]\n",
    "\n",
    "scale[scale == 0] = 1.0\n",
    "\n",
    "rescaled_forecast = normalized_forecast * scale + loc\n",
    "\n",
    "first_pred = rescaled_forecast[:, 0, :]  # [batch_size, 1]\n",
    "true_values = batch['future_values']\n",
    "\n",
    "\n",
    "true_values.cpu()\n",
    "first_pred.cpu()\n",
    "# print(\"Ground truth:\\n\", true_values)\n",
    "print(evaluate_forecast(true_values.cpu().numpy(), first_pred.cpu().numpy()))"
   ]
  },
  {
   "cell_type": "markdown",
   "metadata": {},
   "source": [
    "Evaluation on entire dataset"
   ]
  },
  {
   "cell_type": "code",
   "execution_count": 14,
   "metadata": {},
   "outputs": [
    {
     "name": "stdout",
     "output_type": "stream",
     "text": [
      "y_true: [-1.1669161   0.02857365 -0.1548781  ... -1.0879778  -1.2483041\n",
      "  1.2746837 ]\n"
     ]
    }
   ],
   "source": [
    "model.eval()\n",
    "all_y_true = []\n",
    "all_y_pred = []\n",
    "\n",
    "with torch.no_grad():\n",
    "    for batch in loader:\n",
    "        batch = {k: v.to(device) for k, v in batch.items()}\n",
    "        # print(\"past values:\", batch['past_values'], end=\"\\n\")\n",
    "        outputs = model.generate(\n",
    "            past_values=batch['past_values'],\n",
    "            past_time_features=batch['past_time_features'],\n",
    "            past_observed_mask=batch['past_observed_mask'],\n",
    "            future_time_features=batch['future_time_features'],\n",
    "        )\n",
    "\n",
    "        # normalized_forecast = outputs.sequences\n",
    "\n",
    "        # loc = batch['past_values'].mean(dim=1, keepdim=True).unsqueeze(-1)\n",
    "        # scale = batch['past_values'].std(dim=1, keepdim=True).unsqueeze(-1)\n",
    "        # scale[scale == 0] = 1.0\n",
    "\n",
    "        # rescaled_forecast = normalized_forecast * scale + loc\n",
    "        first_pred = outputs.sequences[:, 0, :]\n",
    "        # First-step forecast\n",
    "\n",
    "\n",
    "        all_y_true.append(batch['future_values'].cpu().numpy())\n",
    "        # print(\"True values: \",batch['future_values'].cpu().numpy(), end=\"\\n\")\n",
    "        all_y_pred.append(first_pred.cpu().numpy())\n",
    "\n",
    "\n",
    "# Flatten all results\n",
    "y_true = np.concatenate(all_y_true).flatten()\n",
    "y_pred = np.concatenate(all_y_pred).flatten()\n",
    "\n",
    "\n",
    "print(\"y_true:\", y_true)\n",
    "\n",
    "\n",
    "\n",
    "\n",
    "# Evaluate\n",
    "metrics = evaluate_forecast(y_true, y_pred)\n",
    "# print(\"Evaluation Metrics (Autoformer Model):\", metrics)\n"
   ]
  },
  {
   "cell_type": "code",
   "execution_count": 15,
   "metadata": {},
   "outputs": [
    {
     "name": "stdout",
     "output_type": "stream",
     "text": [
      "Evaluation Metrics (Autoformer Model): {'MSE': 13.9092, 'RMSE': 3.7295, 'MAE': 1.3396, 'R2': -0.1005}\n"
     ]
    }
   ],
   "source": [
    "print(\"Evaluation Metrics (Autoformer Model):\", metrics)"
   ]
  },
  {
   "cell_type": "code",
   "execution_count": 16,
   "metadata": {},
   "outputs": [
    {
     "data": {
      "image/png": "[encoded data removed]",
      "text/plain": [
       "<Figure size 1000x500 with 1 Axes>"
      ]
     },
     "metadata": {},
     "output_type": "display_data"
    },
    {
     "name": "stdout",
     "output_type": "stream",
     "text": [
      "[-0.7627965   0.91247755  2.7240963  -0.470039   -0.5224723  -0.90566313\n",
      "  0.40082029  0.37229338  0.08315416  0.18260287  0.02447263 -1.752024\n",
      " -0.11698005 -1.1297158   3.8807356  -2.9979675   0.16485083  0.04593443\n",
      "  0.43172827 -0.8642304 ]\n",
      "[-0.06196277  0.29040894  0.44058785 -0.44868347  5.1511636  -1.3595625\n",
      " -0.7496601   0.27893865 -0.44835916 -0.3419203   3.1110115  -1.008069\n",
      "  0.27876568 -0.5304885   0.24276686 -2.0424283   0.8431501  -1.0879778\n",
      " -1.2483041   1.2746837 ]\n"
     ]
    }
   ],
   "source": [
    "import matplotlib.pyplot as plt\n",
    "\n",
    "# #single batch plotting\n",
    "# y_true = true_values.cpu().numpy().flatten()\n",
    "# y_pred = first_pred.cpu().numpy().flatten()\n",
    "\n",
    "# entire dataset\n",
    "y_true = y_true.flatten()\n",
    "y_pred = y_pred.flatten()\n",
    "\n",
    "\n",
    "# Plot\n",
    "plt.figure(figsize=(10, 5))\n",
    "plt.plot(y_true[7000:], label=\"True Values\", marker='o')\n",
    "plt.plot(y_pred[7000:], label=\"Autoformer Predicted Values\", marker='x')\n",
    "plt.title(\"Forecast vs Ground Truth\")\n",
    "plt.xlabel(\"Sample Index (Batch-wise)\")\n",
    "plt.ylabel(\"Target Value\")\n",
    "plt.legend()\n",
    "plt.grid(True)\n",
    "plt.tight_layout()\n",
    "plt.show()\n",
    "\n",
    "\n",
    "print(y_pred[-20:])\n",
    "print(y_true[-20:])"
   ]
  },
  {
   "cell_type": "markdown",
   "metadata": {},
   "source": [
    "Evaluation on a single batch"
   ]
  },
  {
   "cell_type": "code",
   "execution_count": null,
   "metadata": {},
   "outputs": [],
   "source": [
    "# model.eval()\n",
    "\n",
    "# # Grab a batch\n",
    "# for batch in loader:\n",
    "#     batch = {k: v.to(device) for k, v in batch.items()}\n",
    "#     break\n",
    "\n",
    "# # Generate predictions\n",
    "# with torch.no_grad():\n",
    "#     outputs = model.generate(\n",
    "#         past_values=batch['past_values'],\n",
    "#         past_time_features=batch['past_time_features'],\n",
    "#         past_observed_mask=batch['past_observed_mask'],\n",
    "#         future_time_features=batch['future_time_features'],\n",
    "#         # static_real_features=batch['static_real_features'],  # if you're using these\n",
    "#         # static_categorical_features=batch['static_categorical_features'],\n",
    "#     )\n",
    "\n",
    "# normalized_forecast = outputs.sequences  \n",
    "\n",
    "# loc = batch['past_values'].mean(dim=1, keepdim=True).unsqueeze(-1)   # [B, 1, 1]\n",
    "# scale = batch['past_values'].std(dim=1, keepdim=True).unsqueeze(-1)  # [B, 1, 1]\n",
    "\n",
    "# scale[scale == 0] = 1.0\n",
    "\n",
    "# rescaled_forecast = normalized_forecast * scale + loc\n",
    "\n",
    "# first_pred = rescaled_forecast[:, 0, :]  # [batch_size, 1]\n",
    "# true_values = batch['future_values']\n",
    "\n",
    "\n",
    "# true_values.cpu()\n",
    "# first_pred.cpu()\n",
    "# # print(\"Ground truth:\\n\", true_values)\n",
    "# print(evaluate_forecast(true_values.cpu().numpy(), first_pred.cpu().numpy()))"
   ]
  },
  {
   "cell_type": "markdown",
   "metadata": {},
   "source": [
    "##### INITIAL MODEL CONFIGURATION"
   ]
  },
  {
   "cell_type": "code",
   "execution_count": null,
   "metadata": {},
   "outputs": [],
   "source": [
    "outputs.sequences"
   ]
  },
  {
   "cell_type": "code",
   "execution_count": null,
   "metadata": {},
   "outputs": [],
   "source": [
    "# Unsqueeze loc and scale for broadcasting\n",
    "loc = output.loc.unsqueeze(1)      # [10, 1] -> [10, 1, 1]\n",
    "scale = output.scale.unsqueeze(1)  # [10, 1] -> [10, 1, 1]\n",
    "\n",
    "# Decode\n",
    "normalized_forecast = outputs.sequences\n",
    "rescaled_forecast = normalized_forecast * scale + loc\n",
    "\n",
    "print(\"Rescaled forecast shape:\", normalized_forecast.shape)\n",
    "print(\"Rescaled forecast:\", rescaled_forecast.shape)\n"
   ]
  },
  {
   "cell_type": "code",
   "execution_count": null,
   "metadata": {},
   "outputs": [],
   "source": [
    "outputs.sequences.shape"
   ]
  },
  {
   "cell_type": "code",
   "execution_count": null,
   "metadata": {},
   "outputs": [],
   "source": [
    "true_values = batch['future_values']\n",
    "print(\"Ground truth:\", true_values)\n",
    "print(\"Prediction:\", rescaled_forecast)\n"
   ]
  },
  {
   "cell_type": "code",
   "execution_count": null,
   "metadata": {},
   "outputs": [],
   "source": [
    "first_pred = rescaled_forecast[:, 0, :]  # shape: [10, 1]\n",
    "true_values = batch['future_values']  # shape: [10, 1]\n",
    "print(\"Ground truth:\", true_values)\n",
    "print(\"Prediction:\", first_pred)"
   ]
  },
  {
   "cell_type": "code",
   "execution_count": null,
   "metadata": {},
   "outputs": [],
   "source": [
    "{'MSE': 13260.2734, 'RMSE': 115.1533, 'MAE': 78.879, 'R2': -235.7719}\n",
    "\n",
    "\n",
    "\n",
    "import matplotlib.pyplot as plt\n",
    "\n",
    "plt.figure(figsize=(8, 3))\n",
    "\n",
    "test_target_pd = test_target.to_series()\n",
    "pred_series_pd = nbeats_pred_series.to_series()\n",
    "\n",
    "plt.plot(test_target_pd, label=\"Actual Requests\", linewidth=2, color=\"black\")\n",
    "\n",
    "# Plot predicted data with better visibility\n",
    "plt.plot(pred_series_pd, label=\"Predicted Requests\", linestyle=\"dashed\", linewidth=2.5, color=\"blue\", alpha=0.8)\n",
    "\n",
    "plt.title(\"Actual vs Predicted Requests\")\n",
    "plt.xlabel(\"Time\")\n",
    "plt.ylabel(\"Requests\")\n",
    "plt.legend()\n",
    "plt.grid(True)\n",
    "plt.show()\n"
   ]
  },
  {
   "cell_type": "code",
   "execution_count": null,
   "metadata": {},
   "outputs": [],
   "source": [
    "metMap = {\n",
    "    'tcn': {\n",
    "        'mse': 154520.58,\n",
    "        'rmse': 393.09106,\n",
    "        'mae': 103.23221,\n",
    "        'r2': 0.0077,\n",
    "    },\n",
    "    'autoformer': {\n",
    "        'mse': 22674526208.0,\n",
    "        'rmse': 150580.6303,\n",
    "        'mae': 19200.0566,\n",
    "        'r2': -347573.1562,\n",
    "    },\n",
    "    'nbeats': {\n",
    "        'mse': 156958.16,\n",
    "        'rmse': 396.17944,\n",
    "        'mae': 106.8795,\n",
    "        'r2':  -0.007927895,\n",
    "    },\n",
    "    'arima': {\n",
    "        'mse': 8.47,\n",
    "        'rmse': 2.90,\n",
    "        'mae': 4.751214,\n",
    "        'r2': -0.6134726,\n",
    "    },\n",
    "\n",
    "}"
   ]
  },
  {
   "cell_type": "code",
   "execution_count": null,
   "metadata": {},
   "outputs": [],
   "source": [
    "import matplotlib.pyplot as plt\n",
    "\n",
    "def plot_metric_comparison_colorful_annotated(metMap):\n",
    "    models = list(metMap.keys())\n",
    "    mse = [metMap[model]['mse'] for model in models]\n",
    "    rmse = [metMap[model]['rmse'] for model in models]\n",
    "    mae = [metMap[model]['mae'] for model in models]\n",
    "\n",
    "    metrics = ['MSE', 'RMSE', 'MAE']\n",
    "    values = [mse, rmse, mae]\n",
    "\n",
    "    colors = ['skyblue', 'lightcoral', 'mediumseagreen']  # TCN, Autoformer, N-BEATS\n",
    "\n",
    "    plt.figure(figsize=(15, 5))\n",
    "\n",
    "    for i, metric in enumerate(metrics):\n",
    "        plt.subplot(1, 3, i+1)\n",
    "        bars = plt.bar(models, values[i], color=colors)\n",
    "        plt.title(f'{metric} Comparison')\n",
    "        plt.ylabel(metric)\n",
    "        plt.grid(True, linestyle='--', alpha=0.7)\n",
    "\n",
    "        # Annotate values on top of bars\n",
    "        for bar in bars:\n",
    "            height = bar.get_height()\n",
    "            plt.text(\n",
    "                bar.get_x() + bar.get_width() / 2,\n",
    "                height,\n",
    "                f'{height:.1f}',\n",
    "                ha='center',\n",
    "                va='bottom',\n",
    "                fontsize=9,\n",
    "                fontweight='bold'\n",
    "            )\n",
    "\n",
    "    plt.tight_layout()\n",
    "    plt.show()\n",
    "\n",
    "# Usage\n",
    "plot_metric_comparison_colorful_annotated(metMap)\n"
   ]
  },
  {
   "cell_type": "code",
   "execution_count": null,
   "metadata": {},
   "outputs": [],
   "source": []
  }
 ],
 "metadata": {
  "kernelspec": {
   "display_name": "myenv",
   "language": "python",
   "name": "python3"
  },
  "language_info": {
   "codemirror_mode": {
    "name": "ipython",
    "version": 3
   },
   "file_extension": ".py",
   "mimetype": "text/x-python",
   "name": "python",
   "nbconvert_exporter": "python",
   "pygments_lexer": "ipython3",
   "version": "3.12.3"
  }
 },
 "nbformat": 4,
 "nbformat_minor": 2
}
