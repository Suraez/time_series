{
 "cells": [
  {
   "cell_type": "code",
   "execution_count": 63,
   "id": "d02b91bc",
   "metadata": {},
   "outputs": [],
   "source": [
    "import pandas as pd"
   ]
  },
  {
   "cell_type": "code",
   "execution_count": 64,
   "id": "adebccf0",
   "metadata": {},
   "outputs": [],
   "source": [
    "df = pd.read_csv(\"/home/suraj/projects/publish/data/invocations_count.csv\")"
   ]
  },
  {
   "cell_type": "code",
   "execution_count": 65,
   "id": "a0f8860b",
   "metadata": {},
   "outputs": [
    {
     "data": {
      "text/html": [
       "<div>\n",
       "<style scoped>\n",
       "    .dataframe tbody tr th:only-of-type {\n",
       "        vertical-align: middle;\n",
       "    }\n",
       "\n",
       "    .dataframe tbody tr th {\n",
       "        vertical-align: top;\n",
       "    }\n",
       "\n",
       "    .dataframe thead th {\n",
       "        text-align: right;\n",
       "    }\n",
       "</style>\n",
       "<table border=\"1\" class=\"dataframe\">\n",
       "  <thead>\n",
       "    <tr style=\"text-align: right;\">\n",
       "      <th></th>\n",
       "      <th>HashOwner</th>\n",
       "      <th>HashApp</th>\n",
       "      <th>HashFunction</th>\n",
       "      <th>Trigger</th>\n",
       "      <th>1</th>\n",
       "      <th>2</th>\n",
       "      <th>3</th>\n",
       "      <th>4</th>\n",
       "      <th>5</th>\n",
       "      <th>6</th>\n",
       "      <th>...</th>\n",
       "      <th>1431</th>\n",
       "      <th>1432</th>\n",
       "      <th>1433</th>\n",
       "      <th>1434</th>\n",
       "      <th>1435</th>\n",
       "      <th>1436</th>\n",
       "      <th>1437</th>\n",
       "      <th>1438</th>\n",
       "      <th>1439</th>\n",
       "      <th>1440</th>\n",
       "    </tr>\n",
       "  </thead>\n",
       "  <tbody>\n",
       "    <tr>\n",
       "      <th>0</th>\n",
       "      <td>71ca12c7af70d021e285b51b245942f8432df6463ff9f2...</td>\n",
       "      <td>7ca324d9fc836a5d4562811c11ce3719530ee919dd1fb9...</td>\n",
       "      <td>520dbd6bd906840012aa0c4b778743efc7c0ac7b7caf96...</td>\n",
       "      <td>http</td>\n",
       "      <td>0</td>\n",
       "      <td>0</td>\n",
       "      <td>0</td>\n",
       "      <td>1</td>\n",
       "      <td>0</td>\n",
       "      <td>0</td>\n",
       "      <td>...</td>\n",
       "      <td>0</td>\n",
       "      <td>0</td>\n",
       "      <td>0</td>\n",
       "      <td>1</td>\n",
       "      <td>0</td>\n",
       "      <td>0</td>\n",
       "      <td>0</td>\n",
       "      <td>0</td>\n",
       "      <td>1</td>\n",
       "      <td>0</td>\n",
       "    </tr>\n",
       "    <tr>\n",
       "      <th>1</th>\n",
       "      <td>71ca12c7af70d021e285b51b245942f8432df6463ff9f2...</td>\n",
       "      <td>0d0ac65651f54ae3285a59564d64e39238b516fa1d5b56...</td>\n",
       "      <td>115ca7a2b5bc290052c3da74cd0347d19c3c67b7d5aa66...</td>\n",
       "      <td>http</td>\n",
       "      <td>0</td>\n",
       "      <td>0</td>\n",
       "      <td>0</td>\n",
       "      <td>1</td>\n",
       "      <td>0</td>\n",
       "      <td>0</td>\n",
       "      <td>...</td>\n",
       "      <td>0</td>\n",
       "      <td>0</td>\n",
       "      <td>0</td>\n",
       "      <td>1</td>\n",
       "      <td>0</td>\n",
       "      <td>0</td>\n",
       "      <td>0</td>\n",
       "      <td>0</td>\n",
       "      <td>1</td>\n",
       "      <td>0</td>\n",
       "    </tr>\n",
       "    <tr>\n",
       "      <th>2</th>\n",
       "      <td>71ca12c7af70d021e285b51b245942f8432df6463ff9f2...</td>\n",
       "      <td>a04487a6ba1e14296eb7647e4963180d28bef7a90a8fc5...</td>\n",
       "      <td>93e6c664773bbec3a7f50a0e92fa7e97401a802dc6eed8...</td>\n",
       "      <td>orchestration</td>\n",
       "      <td>0</td>\n",
       "      <td>0</td>\n",
       "      <td>0</td>\n",
       "      <td>0</td>\n",
       "      <td>0</td>\n",
       "      <td>0</td>\n",
       "      <td>...</td>\n",
       "      <td>0</td>\n",
       "      <td>0</td>\n",
       "      <td>0</td>\n",
       "      <td>0</td>\n",
       "      <td>0</td>\n",
       "      <td>0</td>\n",
       "      <td>0</td>\n",
       "      <td>0</td>\n",
       "      <td>0</td>\n",
       "      <td>0</td>\n",
       "    </tr>\n",
       "    <tr>\n",
       "      <th>3</th>\n",
       "      <td>71ca12c7af70d021e285b51b245942f8432df6463ff9f2...</td>\n",
       "      <td>a04487a6ba1e14296eb7647e4963180d28bef7a90a8fc5...</td>\n",
       "      <td>740c5c767e4b9978ee59a97d1829cfbaf755a47806a311...</td>\n",
       "      <td>http</td>\n",
       "      <td>0</td>\n",
       "      <td>0</td>\n",
       "      <td>0</td>\n",
       "      <td>0</td>\n",
       "      <td>0</td>\n",
       "      <td>0</td>\n",
       "      <td>...</td>\n",
       "      <td>0</td>\n",
       "      <td>0</td>\n",
       "      <td>0</td>\n",
       "      <td>0</td>\n",
       "      <td>0</td>\n",
       "      <td>0</td>\n",
       "      <td>0</td>\n",
       "      <td>0</td>\n",
       "      <td>0</td>\n",
       "      <td>0</td>\n",
       "    </tr>\n",
       "    <tr>\n",
       "      <th>4</th>\n",
       "      <td>71ca12c7af70d021e285b51b245942f8432df6463ff9f2...</td>\n",
       "      <td>a04487a6ba1e14296eb7647e4963180d28bef7a90a8fc5...</td>\n",
       "      <td>c108b4864b866b38b80d0e4594cc6d038f39668b804a1b...</td>\n",
       "      <td>http</td>\n",
       "      <td>0</td>\n",
       "      <td>0</td>\n",
       "      <td>0</td>\n",
       "      <td>0</td>\n",
       "      <td>0</td>\n",
       "      <td>0</td>\n",
       "      <td>...</td>\n",
       "      <td>0</td>\n",
       "      <td>0</td>\n",
       "      <td>0</td>\n",
       "      <td>0</td>\n",
       "      <td>0</td>\n",
       "      <td>0</td>\n",
       "      <td>0</td>\n",
       "      <td>0</td>\n",
       "      <td>0</td>\n",
       "      <td>0</td>\n",
       "    </tr>\n",
       "  </tbody>\n",
       "</table>\n",
       "<p>5 rows × 1444 columns</p>\n",
       "</div>"
      ],
      "text/plain": [
       "                                           HashOwner  \\\n",
       "0  71ca12c7af70d021e285b51b245942f8432df6463ff9f2...   \n",
       "1  71ca12c7af70d021e285b51b245942f8432df6463ff9f2...   \n",
       "2  71ca12c7af70d021e285b51b245942f8432df6463ff9f2...   \n",
       "3  71ca12c7af70d021e285b51b245942f8432df6463ff9f2...   \n",
       "4  71ca12c7af70d021e285b51b245942f8432df6463ff9f2...   \n",
       "\n",
       "                                             HashApp  \\\n",
       "0  7ca324d9fc836a5d4562811c11ce3719530ee919dd1fb9...   \n",
       "1  0d0ac65651f54ae3285a59564d64e39238b516fa1d5b56...   \n",
       "2  a04487a6ba1e14296eb7647e4963180d28bef7a90a8fc5...   \n",
       "3  a04487a6ba1e14296eb7647e4963180d28bef7a90a8fc5...   \n",
       "4  a04487a6ba1e14296eb7647e4963180d28bef7a90a8fc5...   \n",
       "\n",
       "                                        HashFunction        Trigger  1  2  3  \\\n",
       "0  520dbd6bd906840012aa0c4b778743efc7c0ac7b7caf96...           http  0  0  0   \n",
       "1  115ca7a2b5bc290052c3da74cd0347d19c3c67b7d5aa66...           http  0  0  0   \n",
       "2  93e6c664773bbec3a7f50a0e92fa7e97401a802dc6eed8...  orchestration  0  0  0   \n",
       "3  740c5c767e4b9978ee59a97d1829cfbaf755a47806a311...           http  0  0  0   \n",
       "4  c108b4864b866b38b80d0e4594cc6d038f39668b804a1b...           http  0  0  0   \n",
       "\n",
       "   4  5  6  ...  1431  1432  1433  1434  1435  1436  1437  1438  1439  1440  \n",
       "0  1  0  0  ...     0     0     0     1     0     0     0     0     1     0  \n",
       "1  1  0  0  ...     0     0     0     1     0     0     0     0     1     0  \n",
       "2  0  0  0  ...     0     0     0     0     0     0     0     0     0     0  \n",
       "3  0  0  0  ...     0     0     0     0     0     0     0     0     0     0  \n",
       "4  0  0  0  ...     0     0     0     0     0     0     0     0     0     0  \n",
       "\n",
       "[5 rows x 1444 columns]"
      ]
     },
     "execution_count": 65,
     "metadata": {},
     "output_type": "execute_result"
    }
   ],
   "source": [
    "df.head()"
   ]
  },
  {
   "cell_type": "code",
   "execution_count": 66,
   "id": "fad038d4",
   "metadata": {},
   "outputs": [
    {
     "data": {
      "text/plain": [
       "Index(['HashOwner', 'HashApp', 'HashFunction', 'Trigger', '1', '2', '3', '4',\n",
       "       '5', '6',\n",
       "       ...\n",
       "       '1431', '1432', '1433', '1434', '1435', '1436', '1437', '1438', '1439',\n",
       "       '1440'],\n",
       "      dtype='object', length=1444)"
      ]
     },
     "execution_count": 66,
     "metadata": {},
     "output_type": "execute_result"
    }
   ],
   "source": [
    "df.columns"
   ]
  },
  {
   "cell_type": "code",
   "execution_count": 67,
   "id": "584bb74a",
   "metadata": {},
   "outputs": [],
   "source": [
    "rows = df[df[\"HashFunction\"] == \"85cff28b83792428e039e986e5d5554318a9678f111ec9a6f65ae2956f25ed18\"]"
   ]
  },
  {
   "cell_type": "code",
   "execution_count": 68,
   "id": "dddd643e",
   "metadata": {},
   "outputs": [
    {
     "data": {
      "text/html": [
       "<div>\n",
       "<style scoped>\n",
       "    .dataframe tbody tr th:only-of-type {\n",
       "        vertical-align: middle;\n",
       "    }\n",
       "\n",
       "    .dataframe tbody tr th {\n",
       "        vertical-align: top;\n",
       "    }\n",
       "\n",
       "    .dataframe thead th {\n",
       "        text-align: right;\n",
       "    }\n",
       "</style>\n",
       "<table border=\"1\" class=\"dataframe\">\n",
       "  <thead>\n",
       "    <tr style=\"text-align: right;\">\n",
       "      <th></th>\n",
       "      <th>HashOwner</th>\n",
       "      <th>HashApp</th>\n",
       "      <th>HashFunction</th>\n",
       "      <th>Trigger</th>\n",
       "      <th>1</th>\n",
       "      <th>2</th>\n",
       "      <th>3</th>\n",
       "      <th>4</th>\n",
       "      <th>5</th>\n",
       "      <th>6</th>\n",
       "      <th>...</th>\n",
       "      <th>1431</th>\n",
       "      <th>1432</th>\n",
       "      <th>1433</th>\n",
       "      <th>1434</th>\n",
       "      <th>1435</th>\n",
       "      <th>1436</th>\n",
       "      <th>1437</th>\n",
       "      <th>1438</th>\n",
       "      <th>1439</th>\n",
       "      <th>1440</th>\n",
       "    </tr>\n",
       "  </thead>\n",
       "  <tbody>\n",
       "    <tr>\n",
       "      <th>56</th>\n",
       "      <td>98f3fe1d01789fc2d8ab1dc9cd9a31d51fcbf1936e36a4...</td>\n",
       "      <td>16cc0b0d6a30aa79e0a1f5a2efb3c44e310fa90e1e060c...</td>\n",
       "      <td>85cff28b83792428e039e986e5d5554318a9678f111ec9...</td>\n",
       "      <td>queue</td>\n",
       "      <td>193</td>\n",
       "      <td>179</td>\n",
       "      <td>180</td>\n",
       "      <td>159</td>\n",
       "      <td>160</td>\n",
       "      <td>178</td>\n",
       "      <td>...</td>\n",
       "      <td>1499</td>\n",
       "      <td>214</td>\n",
       "      <td>3187</td>\n",
       "      <td>979</td>\n",
       "      <td>591</td>\n",
       "      <td>768</td>\n",
       "      <td>865</td>\n",
       "      <td>1505</td>\n",
       "      <td>1285</td>\n",
       "      <td>450</td>\n",
       "    </tr>\n",
       "  </tbody>\n",
       "</table>\n",
       "<p>1 rows × 1444 columns</p>\n",
       "</div>"
      ],
      "text/plain": [
       "                                            HashOwner  \\\n",
       "56  98f3fe1d01789fc2d8ab1dc9cd9a31d51fcbf1936e36a4...   \n",
       "\n",
       "                                              HashApp  \\\n",
       "56  16cc0b0d6a30aa79e0a1f5a2efb3c44e310fa90e1e060c...   \n",
       "\n",
       "                                         HashFunction Trigger    1    2    3  \\\n",
       "56  85cff28b83792428e039e986e5d5554318a9678f111ec9...   queue  193  179  180   \n",
       "\n",
       "      4    5    6  ...  1431  1432  1433  1434  1435  1436  1437  1438  1439  \\\n",
       "56  159  160  178  ...  1499   214  3187   979   591   768   865  1505  1285   \n",
       "\n",
       "    1440  \n",
       "56   450  \n",
       "\n",
       "[1 rows x 1444 columns]"
      ]
     },
     "execution_count": 68,
     "metadata": {},
     "output_type": "execute_result"
    }
   ],
   "source": [
    "rows"
   ]
  },
  {
   "cell_type": "code",
   "execution_count": 69,
   "id": "a67f6b93",
   "metadata": {},
   "outputs": [],
   "source": [
    "duplicates = df[df.duplicated(subset=['HashApp'], keep=False)]"
   ]
  },
  {
   "cell_type": "code",
   "execution_count": 70,
   "id": "7d06d071",
   "metadata": {},
   "outputs": [],
   "source": [
    "numeric_columns = [str(i) for i in range(1, 1441)]  # Columns '1' to '1440'\n",
    "\n",
    "# Function to get the sum for a specific HashFunction\n",
    "def sum_function_values(df, hash_function_value):\n",
    "    # Filter rows where HashFunction matches the given value\n",
    "    filtered_df = df[df['HashFunction'] == hash_function_value]\n",
    "    \n",
    "    # Sum across the specified numeric columns\n",
    "    return filtered_df[numeric_columns].sum(axis=1)"
   ]
  },
  {
   "cell_type": "code",
   "execution_count": 73,
   "id": "dd6e76d3",
   "metadata": {},
   "outputs": [],
   "source": [
    "hash_function_value = \"85cff28b83792428e039e986e5d5554318a9678f111ec9a6f65ae2956f25ed18\"  # Replace with the actual function name\n",
    "result = sum_function_values(df, hash_function_value)"
   ]
  },
  {
   "cell_type": "code",
   "execution_count": 74,
   "id": "ab46004e",
   "metadata": {},
   "outputs": [
    {
     "data": {
      "text/plain": [
       "56    1985730\n",
       "dtype: int64"
      ]
     },
     "execution_count": 74,
     "metadata": {},
     "output_type": "execute_result"
    }
   ],
   "source": [
    "result"
   ]
  },
  {
   "cell_type": "code",
   "execution_count": 75,
   "id": "eec62e1f",
   "metadata": {},
   "outputs": [],
   "source": [
    "df2 = pd.read_csv(\"/home/suraj/projects/publish/data/execution.csv\")"
   ]
  },
  {
   "cell_type": "code",
   "execution_count": 76,
   "id": "9e083cd6",
   "metadata": {},
   "outputs": [
    {
     "data": {
      "text/plain": [
       "Index(['HashOwner', 'HashApp', 'HashFunction', 'Average', 'Count', 'Minimum',\n",
       "       'Maximum', 'percentile_Average_0', 'percentile_Average_1',\n",
       "       'percentile_Average_25', 'percentile_Average_50',\n",
       "       'percentile_Average_75', 'percentile_Average_99',\n",
       "       'percentile_Average_100'],\n",
       "      dtype='object')"
      ]
     },
     "execution_count": 76,
     "metadata": {},
     "output_type": "execute_result"
    }
   ],
   "source": [
    "df2.columns"
   ]
  },
  {
   "cell_type": "code",
   "execution_count": 77,
   "id": "a4a12f01",
   "metadata": {},
   "outputs": [],
   "source": [
    "rows = df2[df2[\"HashFunction\"] == \"85cff28b83792428e039e986e5d5554318a9678f111ec9a6f65ae2956f25ed18\"]"
   ]
  },
  {
   "cell_type": "code",
   "execution_count": 78,
   "id": "715644a2",
   "metadata": {},
   "outputs": [
    {
     "data": {
      "text/html": [
       "<div>\n",
       "<style scoped>\n",
       "    .dataframe tbody tr th:only-of-type {\n",
       "        vertical-align: middle;\n",
       "    }\n",
       "\n",
       "    .dataframe tbody tr th {\n",
       "        vertical-align: top;\n",
       "    }\n",
       "\n",
       "    .dataframe thead th {\n",
       "        text-align: right;\n",
       "    }\n",
       "</style>\n",
       "<table border=\"1\" class=\"dataframe\">\n",
       "  <thead>\n",
       "    <tr style=\"text-align: right;\">\n",
       "      <th></th>\n",
       "      <th>HashOwner</th>\n",
       "      <th>HashApp</th>\n",
       "      <th>HashFunction</th>\n",
       "      <th>Average</th>\n",
       "      <th>Count</th>\n",
       "      <th>Minimum</th>\n",
       "      <th>Maximum</th>\n",
       "      <th>percentile_Average_0</th>\n",
       "      <th>percentile_Average_1</th>\n",
       "      <th>percentile_Average_25</th>\n",
       "      <th>percentile_Average_50</th>\n",
       "      <th>percentile_Average_75</th>\n",
       "      <th>percentile_Average_99</th>\n",
       "      <th>percentile_Average_100</th>\n",
       "    </tr>\n",
       "  </thead>\n",
       "  <tbody>\n",
       "    <tr>\n",
       "      <th>554</th>\n",
       "      <td>98f3fe1d01789fc2d8ab1dc9cd9a31d51fcbf1936e36a4...</td>\n",
       "      <td>16cc0b0d6a30aa79e0a1f5a2efb3c44e310fa90e1e060c...</td>\n",
       "      <td>85cff28b83792428e039e986e5d5554318a9678f111ec9...</td>\n",
       "      <td>49</td>\n",
       "      <td>1985000</td>\n",
       "      <td>9.0</td>\n",
       "      <td>15029.0</td>\n",
       "      <td>14</td>\n",
       "      <td>32</td>\n",
       "      <td>40</td>\n",
       "      <td>44</td>\n",
       "      <td>51</td>\n",
       "      <td>127</td>\n",
       "      <td>2595</td>\n",
       "    </tr>\n",
       "  </tbody>\n",
       "</table>\n",
       "</div>"
      ],
      "text/plain": [
       "                                             HashOwner  \\\n",
       "554  98f3fe1d01789fc2d8ab1dc9cd9a31d51fcbf1936e36a4...   \n",
       "\n",
       "                                               HashApp  \\\n",
       "554  16cc0b0d6a30aa79e0a1f5a2efb3c44e310fa90e1e060c...   \n",
       "\n",
       "                                          HashFunction  Average    Count  \\\n",
       "554  85cff28b83792428e039e986e5d5554318a9678f111ec9...       49  1985000   \n",
       "\n",
       "     Minimum  Maximum  percentile_Average_0  percentile_Average_1  \\\n",
       "554      9.0  15029.0                    14                    32   \n",
       "\n",
       "     percentile_Average_25  percentile_Average_50  percentile_Average_75  \\\n",
       "554                     40                     44                     51   \n",
       "\n",
       "     percentile_Average_99  percentile_Average_100  \n",
       "554                    127                    2595  "
      ]
     },
     "execution_count": 78,
     "metadata": {},
     "output_type": "execute_result"
    }
   ],
   "source": [
    "rows"
   ]
  },
  {
   "cell_type": "code",
   "execution_count": null,
   "id": "242bdfc2",
   "metadata": {},
   "outputs": [],
   "source": []
  }
 ],
 "metadata": {
  "kernelspec": {
   "display_name": "newenv",
   "language": "python",
   "name": "newenv"
  },
  "language_info": {
   "codemirror_mode": {
    "name": "ipython",
    "version": 3
   },
   "file_extension": ".py",
   "mimetype": "text/x-python",
   "name": "python",
   "nbconvert_exporter": "python",
   "pygments_lexer": "ipython3",
   "version": "3.12.3"
  }
 },
 "nbformat": 4,
 "nbformat_minor": 5
}
